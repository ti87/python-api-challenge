{
 "cells": [
  {
   "cell_type": "markdown",
   "metadata": {},
   "source": [
    "# WeatherPy\n",
    "----\n",
    "\n",
    "#### Note\n",
    "* Instructions have been included for each segment. You do not have to follow them exactly, but they are included to help you think through the steps."
   ]
  },
  {
   "cell_type": "code",
   "execution_count": 1,
   "metadata": {
    "scrolled": true
   },
   "outputs": [],
   "source": [
    "# Dependencies and Setup\n",
    "import matplotlib.pyplot as plt\n",
    "import pandas as pd\n",
    "import numpy as np\n",
    "import requests\n",
    "import time\n",
    "from scipy.stats import linregress\n",
    "\n",
    "# Import API key\n",
    "from api_keys import weather_api_key\n",
    "\n",
    "# Incorporated citipy to determine city based on latitude and longitude\n",
    "from citipy import citipy\n",
    "\n",
    "# Output File (CSV)\n",
    "output_data_file = \"output_data/cities.csv\"\n",
    "\n",
    "# Range of latitudes and longitudes\n",
    "lat_range = (-90, 90)\n",
    "lng_range = (-180, 180)"
   ]
  },
  {
   "cell_type": "markdown",
   "metadata": {},
   "source": [
    "## Generate Cities List"
   ]
  },
  {
   "cell_type": "code",
   "execution_count": 2,
   "metadata": {},
   "outputs": [
    {
     "data": {
      "text/plain": [
       "591"
      ]
     },
     "execution_count": 2,
     "metadata": {},
     "output_type": "execute_result"
    }
   ],
   "source": [
    "# List for holding lat_lngs and cities\n",
    "lat_lngs = []\n",
    "cities = []\n",
    "\n",
    "# Create a set of random lat and lng combinations\n",
    "lats = np.random.uniform(lat_range[0], lat_range[1], size=1500)\n",
    "lngs = np.random.uniform(lng_range[0], lng_range[1], size=1500)\n",
    "lat_lngs = zip(lats, lngs)\n",
    "\n",
    "# Identify nearest city for each lat, lng combination\n",
    "for lat_lng in lat_lngs:\n",
    "    city = citipy.nearest_city(lat_lng[0], lat_lng[1]).city_name\n",
    "    \n",
    "    # If the city is unique, then add it to a our cities list\n",
    "    if city not in cities:\n",
    "        cities.append(city)\n",
    "\n",
    "# Print the city count to confirm sufficient count\n",
    "len(cities)"
   ]
  },
  {
   "cell_type": "markdown",
   "metadata": {},
   "source": [
    "### Perform API Calls\n",
    "* Perform a weather check on each city using a series of successive API calls.\n",
    "* Include a print log of each city as it'sbeing processed (with the city number and city name).\n"
   ]
  },
  {
   "cell_type": "code",
   "execution_count": 3,
   "metadata": {
    "scrolled": true
   },
   "outputs": [
    {
     "name": "stdout",
     "output_type": "stream",
     "text": [
      "Beginning Data Retrieval     \n",
      "-----------------------------\n",
      "Processing Record 1 of Set 1 | port elizabeth\n",
      "Processing Record 2 of Set 1 | rikitea\n",
      "Processing Record 3 of Set 1 | puerto ayora\n",
      "Processing Record 4 of Set 1 | finschhafen\n",
      "Processing Record 5 of Set 1 | yellowknife\n",
      "Processing Record 6 of Set 1 | grindavik\n",
      "Processing Record 7 of Set 1 | lavrentiya\n",
      "Processing Record 8 of Set 1 | san blas\n",
      "Processing Record 9 of Set 1 | katsuura\n",
      "Processing Record 10 of Set 1 | kapaa\n",
      "Processing Record 11 of Set 1 | ushuaia\n",
      "Processing Record 12 of Set 1 | hobart\n",
      "Processing Record 13 of Set 1 | attawapiskat\n",
      "City not found. Skipping...\n",
      "Processing Record 14 of Set 1 | la ronge\n",
      "Processing Record 15 of Set 1 | usinsk\n",
      "Processing Record 16 of Set 1 | sakaraha\n",
      "Processing Record 17 of Set 1 | hithadhoo\n",
      "Processing Record 18 of Set 1 | padang\n",
      "Processing Record 19 of Set 1 | vicuna\n",
      "Processing Record 20 of Set 1 | butaritari\n",
      "Processing Record 21 of Set 1 | castro\n",
      "Processing Record 22 of Set 1 | chokurdakh\n",
      "Processing Record 23 of Set 1 | jamestown\n",
      "Processing Record 24 of Set 1 | punta arenas\n",
      "Processing Record 25 of Set 1 | portland\n",
      "Processing Record 26 of Set 1 | marsh harbour\n",
      "Processing Record 27 of Set 1 | paita\n",
      "Processing Record 28 of Set 1 | vaini\n",
      "Processing Record 29 of Set 1 | makakilo city\n",
      "Processing Record 30 of Set 1 | olga\n",
      "Processing Record 31 of Set 1 | mataura\n",
      "Processing Record 32 of Set 1 | lobito\n",
      "Processing Record 33 of Set 1 | bluff\n",
      "Processing Record 34 of Set 1 | avarua\n",
      "Processing Record 35 of Set 1 | sorland\n",
      "Processing Record 36 of Set 1 | araouane\n",
      "Processing Record 37 of Set 1 | shimoda\n",
      "Processing Record 38 of Set 1 | atuona\n",
      "Processing Record 39 of Set 1 | lompoc\n",
      "Processing Record 40 of Set 1 | drezdenko\n",
      "Processing Record 41 of Set 1 | satitoa\n",
      "City not found. Skipping...\n",
      "Processing Record 42 of Set 1 | hervey bay\n",
      "Processing Record 43 of Set 1 | fort saint john\n",
      "City not found. Skipping...\n",
      "Processing Record 44 of Set 1 | sentyabrskiy\n",
      "City not found. Skipping...\n",
      "Processing Record 45 of Set 1 | manjeshwar\n",
      "Processing Record 46 of Set 1 | nago\n",
      "Processing Record 47 of Set 1 | sale\n",
      "Processing Record 48 of Set 1 | koumac\n",
      "Processing Record 49 of Set 1 | hermanus\n",
      "Processing Record 50 of Set 1 | ormara\n",
      "Processing Record 0 of Set 2 | pinega\n",
      "Processing Record 1 of Set 2 | rwamagana\n",
      "Processing Record 2 of Set 2 | riyadh\n",
      "Processing Record 3 of Set 2 | pevek\n",
      "Processing Record 4 of Set 2 | kodiak\n",
      "Processing Record 5 of Set 2 | amapa\n",
      "Processing Record 6 of Set 2 | port alfred\n",
      "Processing Record 7 of Set 2 | halifax\n",
      "Processing Record 8 of Set 2 | amderma\n",
      "City not found. Skipping...\n",
      "Processing Record 9 of Set 2 | new norfolk\n",
      "Processing Record 10 of Set 2 | kathu\n",
      "Processing Record 11 of Set 2 | balkanabat\n",
      "Processing Record 12 of Set 2 | cape town\n",
      "Processing Record 13 of Set 2 | yunjinghong\n",
      "City not found. Skipping...\n",
      "Processing Record 14 of Set 2 | daru\n",
      "Processing Record 15 of Set 2 | nikolskoye\n",
      "Processing Record 16 of Set 2 | galle\n",
      "Processing Record 17 of Set 2 | lebu\n",
      "Processing Record 18 of Set 2 | bredasdorp\n",
      "Processing Record 19 of Set 2 | saint-philippe\n",
      "Processing Record 20 of Set 2 | san jeronimo\n",
      "Processing Record 21 of Set 2 | hovd\n",
      "Processing Record 22 of Set 2 | nicoya\n",
      "Processing Record 23 of Set 2 | barrow\n",
      "Processing Record 24 of Set 2 | batsfjord\n",
      "Processing Record 25 of Set 2 | illoqqortoormiut\n",
      "City not found. Skipping...\n",
      "Processing Record 26 of Set 2 | college\n",
      "Processing Record 27 of Set 2 | pangnirtung\n",
      "Processing Record 28 of Set 2 | kijang\n",
      "Processing Record 29 of Set 2 | gobabis\n",
      "Processing Record 30 of Set 2 | saldanha\n",
      "Processing Record 31 of Set 2 | tiarei\n",
      "Processing Record 32 of Set 2 | ust-tsilma\n",
      "Processing Record 33 of Set 2 | busselton\n",
      "Processing Record 34 of Set 2 | kapit\n",
      "Processing Record 35 of Set 2 | ayagoz\n",
      "Processing Record 36 of Set 2 | taolanaro\n",
      "City not found. Skipping...\n",
      "Processing Record 37 of Set 2 | saskylakh\n",
      "Processing Record 38 of Set 2 | torbay\n",
      "Processing Record 39 of Set 2 | albany\n",
      "Processing Record 40 of Set 2 | vila franca do campo\n",
      "Processing Record 41 of Set 2 | georgetown\n",
      "Processing Record 42 of Set 2 | carnarvon\n",
      "Processing Record 43 of Set 2 | itarema\n",
      "Processing Record 44 of Set 2 | ribeira grande\n",
      "Processing Record 45 of Set 2 | kamenka\n",
      "Processing Record 46 of Set 2 | kamaishi\n",
      "Processing Record 47 of Set 2 | namikupa\n",
      "Processing Record 48 of Set 2 | havoysund\n",
      "Processing Record 49 of Set 2 | kodinsk\n",
      "Processing Record 0 of Set 3 | iqaluit\n",
      "Processing Record 1 of Set 3 | thompson\n",
      "Processing Record 2 of Set 3 | pringsewu\n",
      "Processing Record 3 of Set 3 | broken hill\n",
      "Processing Record 4 of Set 3 | sambava\n",
      "Processing Record 5 of Set 3 | tasiilaq\n",
      "Processing Record 6 of Set 3 | kaitangata\n",
      "Processing Record 7 of Set 3 | vila velha\n",
      "Processing Record 8 of Set 3 | bambous virieux\n",
      "Processing Record 9 of Set 3 | roald\n",
      "Processing Record 10 of Set 3 | sao joao da barra\n",
      "Processing Record 11 of Set 3 | gavrilov posad\n",
      "Processing Record 12 of Set 3 | sobolevo\n",
      "Processing Record 13 of Set 3 | saint george\n",
      "Processing Record 14 of Set 3 | bababe\n",
      "City not found. Skipping...\n",
      "Processing Record 15 of Set 3 | erenhot\n",
      "Processing Record 16 of Set 3 | klaksvik\n",
      "Processing Record 17 of Set 3 | cherskiy\n",
      "Processing Record 18 of Set 3 | novorzhev\n",
      "Processing Record 19 of Set 3 | kahului\n",
      "Processing Record 20 of Set 3 | uyemskiy\n",
      "Processing Record 21 of Set 3 | upernavik\n",
      "Processing Record 22 of Set 3 | singida\n",
      "Processing Record 23 of Set 3 | bolungarvik\n",
      "City not found. Skipping...\n",
      "Processing Record 24 of Set 3 | severo-kurilsk\n",
      "Processing Record 25 of Set 3 | yulara\n",
      "Processing Record 26 of Set 3 | port lincoln\n",
      "Processing Record 27 of Set 3 | kavieng\n",
      "Processing Record 28 of Set 3 | bengkulu\n",
      "Processing Record 29 of Set 3 | narsaq\n",
      "Processing Record 30 of Set 3 | babanusah\n",
      "City not found. Skipping...\n",
      "Processing Record 31 of Set 3 | east london\n",
      "Processing Record 32 of Set 3 | mahebourg\n",
      "Processing Record 33 of Set 3 | manamadurai\n",
      "Processing Record 34 of Set 3 | chernyy yar\n",
      "Processing Record 35 of Set 3 | saleaula\n",
      "City not found. Skipping...\n",
      "Processing Record 36 of Set 3 | hasaki\n",
      "Processing Record 37 of Set 3 | develi\n",
      "Processing Record 38 of Set 3 | clyde river\n",
      "Processing Record 39 of Set 3 | libreville\n",
      "Processing Record 40 of Set 3 | provideniya\n",
      "Processing Record 41 of Set 3 | dogbo\n",
      "Processing Record 42 of Set 3 | chuy\n",
      "Processing Record 43 of Set 3 | tuatapere\n",
      "Processing Record 44 of Set 3 | buala\n",
      "Processing Record 45 of Set 3 | touros\n",
      "Processing Record 46 of Set 3 | saint anthony\n",
      "Processing Record 47 of Set 3 | piterka\n",
      "Processing Record 48 of Set 3 | bowen\n",
      "Processing Record 49 of Set 3 | nuevo progreso\n",
      "Processing Record 0 of Set 4 | ajaccio\n",
      "Processing Record 1 of Set 4 | mys shmidta\n",
      "City not found. Skipping...\n",
      "Processing Record 2 of Set 4 | richards bay\n",
      "Processing Record 3 of Set 4 | bani\n",
      "Processing Record 4 of Set 4 | norman wells\n",
      "Processing Record 5 of Set 4 | gao\n",
      "Processing Record 6 of Set 4 | cidreira\n",
      "Processing Record 7 of Set 4 | grand centre\n",
      "City not found. Skipping...\n",
      "Processing Record 8 of Set 4 | namibe\n",
      "Processing Record 9 of Set 4 | lasa\n",
      "Processing Record 10 of Set 4 | guerrero negro\n",
      "Processing Record 11 of Set 4 | hearst\n",
      "Processing Record 12 of Set 4 | petropavlovsk-kamchatskiy\n",
      "Processing Record 13 of Set 4 | barentsburg\n",
      "City not found. Skipping...\n",
      "Processing Record 14 of Set 4 | obreja\n",
      "Processing Record 15 of Set 4 | qom\n",
      "Processing Record 16 of Set 4 | bubaque\n",
      "Processing Record 17 of Set 4 | burica\n",
      "City not found. Skipping...\n",
      "Processing Record 18 of Set 4 | nishihara\n",
      "Processing Record 19 of Set 4 | waitati\n",
      "Processing Record 20 of Set 4 | sinkat\n",
      "City not found. Skipping...\n",
      "Processing Record 21 of Set 4 | coquimbo\n",
      "Processing Record 22 of Set 4 | bay roberts\n",
      "Processing Record 23 of Set 4 | arlit\n",
      "Processing Record 24 of Set 4 | port hawkesbury\n",
      "Processing Record 25 of Set 4 | arraial do cabo\n",
      "Processing Record 26 of Set 4 | kiama\n",
      "Processing Record 27 of Set 4 | jaru\n",
      "Processing Record 28 of Set 4 | umm lajj\n",
      "Processing Record 29 of Set 4 | bathsheba\n",
      "Processing Record 30 of Set 4 | malakal\n",
      "Processing Record 31 of Set 4 | zhoucheng\n",
      "Processing Record 32 of Set 4 | kawana waters\n",
      "City not found. Skipping...\n",
      "Processing Record 33 of Set 4 | mehamn\n",
      "Processing Record 34 of Set 4 | laguna\n",
      "Processing Record 35 of Set 4 | vostochnyy\n"
     ]
    },
    {
     "name": "stdout",
     "output_type": "stream",
     "text": [
      "Processing Record 36 of Set 4 | carlyle\n",
      "Processing Record 37 of Set 4 | afikpo\n",
      "Processing Record 38 of Set 4 | chernyshevskiy\n",
      "Processing Record 39 of Set 4 | fort nelson\n",
      "Processing Record 40 of Set 4 | mandalgovi\n",
      "Processing Record 41 of Set 4 | saint-pierre\n",
      "Processing Record 42 of Set 4 | manggar\n",
      "Processing Record 43 of Set 4 | nichinan\n",
      "Processing Record 44 of Set 4 | meadow lake\n",
      "Processing Record 45 of Set 4 | belushya guba\n",
      "City not found. Skipping...\n",
      "Processing Record 46 of Set 4 | hilo\n",
      "Processing Record 47 of Set 4 | neosho\n",
      "Processing Record 48 of Set 4 | jeremoabo\n",
      "Processing Record 49 of Set 4 | scarborough\n",
      "Processing Record 0 of Set 5 | cockburn harbour\n",
      "City not found. Skipping...\n",
      "Processing Record 1 of Set 5 | kavaratti\n",
      "Processing Record 2 of Set 5 | svetlaya\n",
      "Processing Record 3 of Set 5 | eyl\n",
      "Processing Record 4 of Set 5 | grand-santi\n",
      "Processing Record 5 of Set 5 | paucartambo\n",
      "City not found. Skipping...\n",
      "Processing Record 6 of Set 5 | margate\n",
      "Processing Record 7 of Set 5 | ust-maya\n",
      "Processing Record 8 of Set 5 | longyearbyen\n",
      "Processing Record 9 of Set 5 | nabire\n",
      "Processing Record 10 of Set 5 | los llanos de aridane\n",
      "Processing Record 11 of Set 5 | weligama\n",
      "Processing Record 12 of Set 5 | mantua\n",
      "Processing Record 13 of Set 5 | pelotas\n",
      "Processing Record 14 of Set 5 | pozo colorado\n",
      "Processing Record 15 of Set 5 | salalah\n",
      "Processing Record 16 of Set 5 | wulanhaote\n",
      "City not found. Skipping...\n",
      "Processing Record 17 of Set 5 | caravelas\n",
      "Processing Record 18 of Set 5 | san vicente\n",
      "Processing Record 19 of Set 5 | half moon bay\n",
      "Processing Record 20 of Set 5 | chapais\n",
      "Processing Record 21 of Set 5 | gijon\n",
      "Processing Record 22 of Set 5 | mugur-aksy\n",
      "Processing Record 23 of Set 5 | port-gentil\n",
      "Processing Record 24 of Set 5 | hurghada\n",
      "Processing Record 25 of Set 5 | vanimo\n",
      "Processing Record 26 of Set 5 | french harbor\n",
      "Processing Record 27 of Set 5 | brownsville\n",
      "Processing Record 28 of Set 5 | ilulissat\n",
      "Processing Record 29 of Set 5 | sitio novo do tocantins\n",
      "Processing Record 30 of Set 5 | iquique\n",
      "Processing Record 31 of Set 5 | general roca\n",
      "Processing Record 32 of Set 5 | tsihombe\n",
      "City not found. Skipping...\n",
      "Processing Record 33 of Set 5 | talnakh\n",
      "Processing Record 34 of Set 5 | san cristobal\n",
      "Processing Record 35 of Set 5 | tuktoyaktuk\n",
      "Processing Record 36 of Set 5 | placido de castro\n",
      "Processing Record 37 of Set 5 | mar del plata\n",
      "Processing Record 38 of Set 5 | olafsvik\n",
      "Processing Record 39 of Set 5 | talaya\n",
      "Processing Record 40 of Set 5 | qaanaaq\n",
      "Processing Record 41 of Set 5 | turukhansk\n",
      "Processing Record 42 of Set 5 | nizhneyansk\n",
      "City not found. Skipping...\n",
      "Processing Record 43 of Set 5 | taoudenni\n",
      "Processing Record 44 of Set 5 | khatanga\n",
      "Processing Record 45 of Set 5 | hofn\n",
      "Processing Record 46 of Set 5 | san carlos\n",
      "Processing Record 47 of Set 5 | strezhevoy\n",
      "Processing Record 48 of Set 5 | defiance\n",
      "Processing Record 49 of Set 5 | grand river south east\n",
      "City not found. Skipping...\n",
      "Processing Record 0 of Set 6 | cabra\n",
      "Processing Record 1 of Set 6 | chicama\n",
      "Processing Record 2 of Set 6 | homer\n",
      "Processing Record 3 of Set 6 | tiksi\n",
      "Processing Record 4 of Set 6 | taitung\n",
      "Processing Record 5 of Set 6 | kang\n",
      "Processing Record 6 of Set 6 | kisangani\n",
      "Processing Record 7 of Set 6 | faanui\n",
      "Processing Record 8 of Set 6 | luderitz\n",
      "Processing Record 9 of Set 6 | invercargill\n",
      "Processing Record 10 of Set 6 | lillooet\n",
      "Processing Record 11 of Set 6 | vardo\n",
      "Processing Record 12 of Set 6 | korla\n",
      "Processing Record 13 of Set 6 | nome\n",
      "Processing Record 14 of Set 6 | waipawa\n",
      "Processing Record 15 of Set 6 | grand gaube\n",
      "Processing Record 16 of Set 6 | bichura\n",
      "Processing Record 17 of Set 6 | dauphin\n",
      "Processing Record 18 of Set 6 | teknaf\n",
      "Processing Record 19 of Set 6 | buritis\n",
      "Processing Record 20 of Set 6 | samara\n",
      "Processing Record 21 of Set 6 | whitehorse\n",
      "Processing Record 22 of Set 6 | belaya gora\n",
      "Processing Record 23 of Set 6 | jega\n",
      "Processing Record 24 of Set 6 | doha\n",
      "Processing Record 25 of Set 6 | machali\n",
      "Processing Record 26 of Set 6 | aykhal\n",
      "Processing Record 27 of Set 6 | ixtapa\n",
      "Processing Record 28 of Set 6 | kununurra\n",
      "Processing Record 29 of Set 6 | sitka\n",
      "Processing Record 30 of Set 6 | ambunti\n",
      "Processing Record 31 of Set 6 | kaka\n",
      "Processing Record 32 of Set 6 | paternion\n",
      "Processing Record 33 of Set 6 | batagay-alyta\n",
      "Processing Record 34 of Set 6 | quatre cocos\n",
      "Processing Record 35 of Set 6 | utiroa\n",
      "City not found. Skipping...\n",
      "Processing Record 36 of Set 6 | severo-yeniseyskiy\n",
      "Processing Record 37 of Set 6 | ponta delgada\n",
      "Processing Record 38 of Set 6 | syracuse\n",
      "Processing Record 39 of Set 6 | bethel\n",
      "Processing Record 40 of Set 6 | asfi\n",
      "Processing Record 41 of Set 6 | karratha\n",
      "Processing Record 42 of Set 6 | beloha\n",
      "Processing Record 43 of Set 6 | naze\n",
      "Processing Record 44 of Set 6 | khani\n",
      "Processing Record 45 of Set 6 | samusu\n",
      "City not found. Skipping...\n",
      "Processing Record 46 of Set 6 | saint-leu\n",
      "Processing Record 47 of Set 6 | berlevag\n",
      "Processing Record 48 of Set 6 | curillo\n",
      "Processing Record 49 of Set 6 | alugan\n",
      "Processing Record 0 of Set 7 | ruatoria\n",
      "City not found. Skipping...\n",
      "Processing Record 1 of Set 7 | play cu\n",
      "City not found. Skipping...\n",
      "Processing Record 2 of Set 7 | iranshahr\n",
      "Processing Record 3 of Set 7 | along\n",
      "Processing Record 4 of Set 7 | mitu\n",
      "Processing Record 5 of Set 7 | kutum\n",
      "Processing Record 6 of Set 7 | ballina\n",
      "Processing Record 7 of Set 7 | husavik\n",
      "Processing Record 8 of Set 7 | fukue\n",
      "Processing Record 9 of Set 7 | nemuro\n",
      "Processing Record 10 of Set 7 | ahipara\n",
      "Processing Record 11 of Set 7 | luganville\n",
      "Processing Record 12 of Set 7 | karaul\n",
      "City not found. Skipping...\n",
      "Processing Record 13 of Set 7 | nyurba\n",
      "Processing Record 14 of Set 7 | sept-iles\n",
      "Processing Record 15 of Set 7 | muzhi\n",
      "Processing Record 16 of Set 7 | derzhavinsk\n",
      "Processing Record 17 of Set 7 | ponta do sol\n",
      "Processing Record 18 of Set 7 | mazamari\n",
      "Processing Record 19 of Set 7 | fairbanks\n",
      "Processing Record 20 of Set 7 | khonsa\n",
      "Processing Record 21 of Set 7 | boa vista\n",
      "Processing Record 22 of Set 7 | constanza\n",
      "Processing Record 23 of Set 7 | itapuranga\n",
      "Processing Record 24 of Set 7 | harper\n",
      "Processing Record 25 of Set 7 | macaboboni\n",
      "City not found. Skipping...\n",
      "Processing Record 26 of Set 7 | codrington\n",
      "Processing Record 27 of Set 7 | khormuj\n",
      "City not found. Skipping...\n",
      "Processing Record 28 of Set 7 | plastun\n",
      "Processing Record 29 of Set 7 | mayo\n",
      "Processing Record 30 of Set 7 | mizque\n",
      "Processing Record 31 of Set 7 | hay river\n",
      "Processing Record 32 of Set 7 | lleida\n",
      "Processing Record 33 of Set 7 | axim\n",
      "Processing Record 34 of Set 7 | pacific grove\n",
      "Processing Record 35 of Set 7 | sinnar\n",
      "Processing Record 36 of Set 7 | katangli\n",
      "Processing Record 37 of Set 7 | dandeli\n",
      "Processing Record 38 of Set 7 | yanam\n",
      "Processing Record 39 of Set 7 | san patricio\n",
      "Processing Record 40 of Set 7 | hambantota\n",
      "Processing Record 41 of Set 7 | kuche\n",
      "City not found. Skipping...\n",
      "Processing Record 42 of Set 7 | yudong\n",
      "Processing Record 43 of Set 7 | atar\n",
      "Processing Record 44 of Set 7 | yura\n",
      "Processing Record 45 of Set 7 | chagda\n",
      "City not found. Skipping...\n",
      "Processing Record 46 of Set 7 | kupang\n",
      "Processing Record 47 of Set 7 | falmouth\n",
      "Processing Record 48 of Set 7 | shushenskoye\n",
      "Processing Record 49 of Set 7 | puro\n",
      "Processing Record 0 of Set 8 | hisor\n",
      "Processing Record 1 of Set 8 | puerto escondido\n",
      "Processing Record 2 of Set 8 | vaitupu\n",
      "City not found. Skipping...\n",
      "Processing Record 3 of Set 8 | lolua\n",
      "City not found. Skipping...\n",
      "Processing Record 4 of Set 8 | westerland\n",
      "Processing Record 5 of Set 8 | hailar\n",
      "Processing Record 6 of Set 8 | rapina\n",
      "Processing Record 7 of Set 8 | gurskoye\n",
      "City not found. Skipping...\n",
      "Processing Record 8 of Set 8 | kruisfontein\n",
      "Processing Record 9 of Set 8 | kembe\n",
      "Processing Record 10 of Set 8 | tamandare\n",
      "Processing Record 11 of Set 8 | tuggurt\n",
      "City not found. Skipping...\n",
      "Processing Record 12 of Set 8 | esperance\n",
      "Processing Record 13 of Set 8 | bilma\n",
      "Processing Record 14 of Set 8 | malkapur\n",
      "Processing Record 15 of Set 8 | talavera de la reina\n",
      "Processing Record 16 of Set 8 | marcona\n",
      "City not found. Skipping...\n",
      "Processing Record 17 of Set 8 | ilhabela\n",
      "Processing Record 18 of Set 8 | gumdag\n",
      "Processing Record 19 of Set 8 | ostrovnoy\n",
      "Processing Record 20 of Set 8 | faya\n",
      "Processing Record 21 of Set 8 | vaitape\n"
     ]
    },
    {
     "name": "stdout",
     "output_type": "stream",
     "text": [
      "Processing Record 22 of Set 8 | khandyga\n",
      "Processing Record 23 of Set 8 | kabare\n",
      "Processing Record 24 of Set 8 | kargasok\n",
      "Processing Record 25 of Set 8 | stettler\n",
      "Processing Record 26 of Set 8 | porto santo\n",
      "Processing Record 27 of Set 8 | huilong\n",
      "Processing Record 28 of Set 8 | lorengau\n",
      "Processing Record 29 of Set 8 | buzdyak\n",
      "Processing Record 30 of Set 8 | klaeng\n",
      "Processing Record 31 of Set 8 | bandarbeyla\n",
      "Processing Record 32 of Set 8 | pisco\n",
      "Processing Record 33 of Set 8 | louisbourg\n",
      "City not found. Skipping...\n",
      "Processing Record 34 of Set 8 | coruripe\n",
      "Processing Record 35 of Set 8 | sisimiut\n",
      "Processing Record 36 of Set 8 | maralal\n",
      "Processing Record 37 of Set 8 | puerto baquerizo moreno\n",
      "Processing Record 38 of Set 8 | port hardy\n",
      "Processing Record 39 of Set 8 | rybachiy\n",
      "Processing Record 40 of Set 8 | port blair\n",
      "Processing Record 41 of Set 8 | magadan\n",
      "Processing Record 42 of Set 8 | boende\n",
      "Processing Record 43 of Set 8 | altay\n",
      "Processing Record 44 of Set 8 | kailua\n",
      "Processing Record 45 of Set 8 | gushikawa\n",
      "Processing Record 46 of Set 8 | omboue\n",
      "Processing Record 47 of Set 8 | fortuna\n",
      "Processing Record 48 of Set 8 | kungurtug\n",
      "Processing Record 49 of Set 8 | barra patuca\n",
      "Processing Record 0 of Set 9 | yambio\n",
      "Processing Record 1 of Set 9 | lowicz\n",
      "Processing Record 2 of Set 9 | mount gambier\n",
      "Processing Record 3 of Set 9 | galgani\n",
      "City not found. Skipping...\n",
      "Processing Record 4 of Set 9 | lubango\n",
      "Processing Record 5 of Set 9 | dikson\n",
      "Processing Record 6 of Set 9 | arona\n",
      "Processing Record 7 of Set 9 | santa maria\n",
      "Processing Record 8 of Set 9 | namatanai\n",
      "Processing Record 9 of Set 9 | salina cruz\n",
      "Processing Record 10 of Set 9 | avera\n",
      "Processing Record 11 of Set 9 | simpang\n",
      "Processing Record 12 of Set 9 | lagoa\n",
      "Processing Record 13 of Set 9 | northam\n",
      "Processing Record 14 of Set 9 | sao filipe\n",
      "Processing Record 15 of Set 9 | adrar\n",
      "Processing Record 16 of Set 9 | santa rosa\n",
      "Processing Record 17 of Set 9 | buckeye\n",
      "Processing Record 18 of Set 9 | leningradskiy\n",
      "Processing Record 19 of Set 9 | ivolginsk\n",
      "Processing Record 20 of Set 9 | artyk\n",
      "City not found. Skipping...\n",
      "Processing Record 21 of Set 9 | zomba\n",
      "Processing Record 22 of Set 9 | illapel\n",
      "Processing Record 23 of Set 9 | akola\n",
      "Processing Record 24 of Set 9 | korop\n",
      "Processing Record 25 of Set 9 | dingle\n",
      "Processing Record 26 of Set 9 | bonavista\n",
      "Processing Record 27 of Set 9 | grand island\n",
      "Processing Record 28 of Set 9 | nefteyugansk\n",
      "Processing Record 29 of Set 9 | wilmington\n",
      "Processing Record 30 of Set 9 | zyryanka\n",
      "Processing Record 31 of Set 9 | mendi\n",
      "Processing Record 32 of Set 9 | vila\n",
      "Processing Record 33 of Set 9 | mokolo\n",
      "Processing Record 34 of Set 9 | buraydah\n",
      "Processing Record 35 of Set 9 | winona\n",
      "Processing Record 36 of Set 9 | talcahuano\n",
      "Processing Record 37 of Set 9 | tautira\n",
      "Processing Record 38 of Set 9 | nuuk\n",
      "Processing Record 39 of Set 9 | burnie\n",
      "Processing Record 40 of Set 9 | turayf\n",
      "Processing Record 41 of Set 9 | nanakuli\n",
      "Processing Record 42 of Set 9 | singkawang\n",
      "Processing Record 43 of Set 9 | airai\n",
      "Processing Record 44 of Set 9 | zhob\n",
      "Processing Record 45 of Set 9 | jiddah\n",
      "City not found. Skipping...\n",
      "Processing Record 46 of Set 9 | dunedin\n",
      "Processing Record 47 of Set 9 | geraldton\n",
      "Processing Record 48 of Set 9 | mareeba\n",
      "Processing Record 49 of Set 9 | tura\n",
      "Processing Record 0 of Set 10 | cabo san lucas\n",
      "Processing Record 1 of Set 10 | leiyang\n",
      "Processing Record 2 of Set 10 | mandla\n",
      "Processing Record 3 of Set 10 | voh\n",
      "Processing Record 4 of Set 10 | tabas\n",
      "Processing Record 5 of Set 10 | verkhnyaya inta\n",
      "Processing Record 6 of Set 10 | telenesti\n",
      "Processing Record 7 of Set 10 | argelia\n",
      "Processing Record 8 of Set 10 | coihueco\n",
      "Processing Record 9 of Set 10 | uri\n",
      "Processing Record 10 of Set 10 | sorvag\n",
      "City not found. Skipping...\n",
      "Processing Record 11 of Set 10 | jumla\n",
      "Processing Record 12 of Set 10 | disa\n",
      "Processing Record 13 of Set 10 | sibolga\n",
      "Processing Record 14 of Set 10 | comodoro rivadavia\n",
      "Processing Record 15 of Set 10 | mattru\n",
      "Processing Record 16 of Set 10 | el alto\n",
      "Processing Record 17 of Set 10 | nantucket\n",
      "Processing Record 18 of Set 10 | nanortalik\n",
      "Processing Record 19 of Set 10 | carutapera\n",
      "Processing Record 20 of Set 10 | brazzaville\n",
      "Processing Record 21 of Set 10 | santa cruz\n",
      "Processing Record 22 of Set 10 | beringovskiy\n",
      "Processing Record 23 of Set 10 | mrirt\n",
      "City not found. Skipping...\n",
      "Processing Record 24 of Set 10 | urumqi\n",
      "Processing Record 25 of Set 10 | suluq\n",
      "Processing Record 26 of Set 10 | asau\n",
      "Processing Record 27 of Set 10 | palauig\n",
      "Processing Record 28 of Set 10 | gurgan\n",
      "City not found. Skipping...\n",
      "Processing Record 29 of Set 10 | marsa matruh\n",
      "Processing Record 30 of Set 10 | pavlovka\n",
      "Processing Record 31 of Set 10 | mocuba\n",
      "Processing Record 32 of Set 10 | jizan\n",
      "Processing Record 33 of Set 10 | kuusamo\n",
      "Processing Record 34 of Set 10 | buin\n",
      "Processing Record 35 of Set 10 | ancud\n",
      "Processing Record 36 of Set 10 | yumen\n",
      "Processing Record 37 of Set 10 | vieques\n",
      "Processing Record 38 of Set 10 | lata\n",
      "Processing Record 39 of Set 10 | siocon\n",
      "Processing Record 40 of Set 10 | phan rang\n",
      "City not found. Skipping...\n",
      "Processing Record 41 of Set 10 | labuhan\n",
      "Processing Record 42 of Set 10 | semnan\n",
      "Processing Record 43 of Set 10 | okato\n",
      "Processing Record 44 of Set 10 | broome\n",
      "Processing Record 45 of Set 10 | khonuu\n",
      "City not found. Skipping...\n",
      "Processing Record 46 of Set 10 | gdov\n",
      "Processing Record 47 of Set 10 | victoria\n",
      "Processing Record 48 of Set 10 | zarand\n",
      "Processing Record 49 of Set 10 | dukat\n",
      "Processing Record 0 of Set 11 | poya\n",
      "Processing Record 1 of Set 11 | paraiso\n",
      "Processing Record 2 of Set 11 | bodo\n",
      "Processing Record 3 of Set 11 | vincennes\n",
      "Processing Record 4 of Set 11 | majene\n",
      "Processing Record 5 of Set 11 | san quintin\n",
      "Processing Record 6 of Set 11 | wanning\n",
      "Processing Record 7 of Set 11 | redlands\n",
      "Processing Record 8 of Set 11 | muisne\n",
      "Processing Record 9 of Set 11 | cap malheureux\n",
      "Processing Record 10 of Set 11 | athens\n",
      "Processing Record 11 of Set 11 | willowmore\n",
      "Processing Record 12 of Set 11 | cockburn town\n",
      "Processing Record 13 of Set 11 | nguiu\n",
      "City not found. Skipping...\n",
      "Processing Record 14 of Set 11 | pustoshka\n",
      "Processing Record 15 of Set 11 | barber\n",
      "Processing Record 16 of Set 11 | souillac\n",
      "Processing Record 17 of Set 11 | ulaanbaatar\n",
      "Processing Record 18 of Set 11 | jiangyou\n",
      "Processing Record 19 of Set 11 | ternate\n",
      "Processing Record 20 of Set 11 | santiago\n",
      "Processing Record 21 of Set 11 | guasdualito\n",
      "Processing Record 22 of Set 11 | maloy\n",
      "Processing Record 23 of Set 11 | buzmeyin\n",
      "Processing Record 24 of Set 11 | hit\n",
      "Processing Record 25 of Set 11 | dinsor\n",
      "City not found. Skipping...\n",
      "Processing Record 26 of Set 11 | tiep\n",
      "Processing Record 27 of Set 11 | puerto pinasco\n",
      "City not found. Skipping...\n",
      "Processing Record 28 of Set 11 | hualmay\n",
      "Processing Record 29 of Set 11 | panzhihua\n",
      "Processing Record 30 of Set 11 | tumannyy\n",
      "City not found. Skipping...\n",
      "Processing Record 31 of Set 11 | cascais\n",
      "Processing Record 32 of Set 11 | kirakira\n",
      "Processing Record 33 of Set 11 | quesnel\n",
      "Processing Record 34 of Set 11 | am timan\n",
      "Processing Record 35 of Set 11 | ust-bolsheretsk\n",
      "City not found. Skipping...\n",
      "Processing Record 36 of Set 11 | coihaique\n",
      "Processing Record 37 of Set 11 | lahad datu\n",
      "Processing Record 38 of Set 11 | vestmannaeyjar\n",
      "Processing Record 39 of Set 11 | kilakarai\n",
      "Processing Record 40 of Set 11 | umzimvubu\n",
      "City not found. Skipping...\n",
      "Processing Record 41 of Set 11 | marawi\n",
      "Processing Record 42 of Set 11 | halalo\n",
      "City not found. Skipping...\n",
      "Processing Record 43 of Set 11 | joshimath\n",
      "Processing Record 44 of Set 11 | khartoum\n",
      "Processing Record 45 of Set 11 | togur\n",
      "Processing Record 46 of Set 11 | constantine\n",
      "Processing Record 47 of Set 11 | clarence town\n",
      "Processing Record 48 of Set 11 | minggang\n",
      "Processing Record 49 of Set 11 | tucuman\n",
      "Processing Record 0 of Set 12 | ketchikan\n",
      "Processing Record 1 of Set 12 | preobrazheniye\n",
      "Processing Record 2 of Set 12 | dickinson\n",
      "Processing Record 3 of Set 12 | muroto\n",
      "Processing Record 4 of Set 12 | grand forks\n",
      "Processing Record 5 of Set 12 | milin\n",
      "Processing Record 6 of Set 12 | luanda\n",
      "Processing Record 7 of Set 12 | santa rosa de viterbo\n",
      "Processing Record 8 of Set 12 | constitucion\n",
      "Processing Record 9 of Set 12 | port keats\n"
     ]
    },
    {
     "name": "stdout",
     "output_type": "stream",
     "text": [
      "Processing Record 10 of Set 12 | kenai\n",
      "Processing Record 11 of Set 12 | verkhnyaya khava\n",
      "Processing Record 12 of Set 12 | kracheh\n",
      "City not found. Skipping...\n",
      "Processing Record 13 of Set 12 | alofi\n",
      "Processing Record 14 of Set 12 | denton\n",
      "Processing Record 15 of Set 12 | cururupu\n",
      "Processing Record 16 of Set 12 | los alamos\n",
      "Processing Record 17 of Set 12 | meulaboh\n",
      "Processing Record 18 of Set 12 | chickasha\n",
      "Processing Record 19 of Set 12 | deputatskiy\n",
      "Processing Record 20 of Set 12 | cantaura\n",
      "Processing Record 21 of Set 12 | slave lake\n",
      "Processing Record 22 of Set 12 | tupik\n",
      "Processing Record 23 of Set 12 | maghama\n",
      "City not found. Skipping...\n",
      "Processing Record 24 of Set 12 | uromi\n",
      "Processing Record 25 of Set 12 | iskateley\n",
      "Processing Record 26 of Set 12 | kloulklubed\n",
      "Processing Record 27 of Set 12 | tessalit\n",
      "Processing Record 28 of Set 12 | kourou\n",
      "Processing Record 29 of Set 12 | gat\n",
      "Processing Record 30 of Set 12 | menongue\n",
      "Processing Record 31 of Set 12 | bardsir\n",
      "Processing Record 32 of Set 12 | high prairie\n",
      "Processing Record 33 of Set 12 | lima\n",
      "Processing Record 34 of Set 12 | ambodifototra\n",
      "City not found. Skipping...\n",
      "Processing Record 35 of Set 12 | valparaiso\n",
      "Processing Record 36 of Set 12 | cherrapunji\n",
      "Processing Record 37 of Set 12 | harlingen\n",
      "Processing Record 38 of Set 12 | tongliao\n",
      "Processing Record 39 of Set 12 | pahrump\n",
      "Processing Record 40 of Set 12 | moose factory\n",
      "-----------------------------\n",
      "Data Retrieval Complete      \n",
      "-----------------------------\n"
     ]
    }
   ],
   "source": [
    "url = \"http://api.openweathermap.org/data/2.5/weather?units=Imperial&APPID=\" + weather_api_key\n",
    "\n",
    "\n",
    "city_data = []\n",
    "\n",
    "\n",
    "print(\"Beginning Data Retrieval     \")\n",
    "print(\"-----------------------------\")\n",
    "\n",
    "\n",
    "record_count = 1\n",
    "set_count = 1\n",
    "\n",
    "\n",
    "for i, city in enumerate(cities):\n",
    "        \n",
    "    \n",
    "    if (i % 50 == 0 and i >= 50):\n",
    "        set_count += 1\n",
    "        record_count = 0\n",
    "\n",
    "    \n",
    "    city_url = url + \"&q=\" + city\n",
    "    \n",
    "    \n",
    "    print(\"Processing Record %s of Set %s | %s\" % (record_count, set_count, city))\n",
    "\n",
    "    \n",
    "    record_count += 1\n",
    "\n",
    "    \n",
    "    try:\n",
    "        \n",
    "        city_weather = requests.get(city_url).json()\n",
    "\n",
    "       \n",
    "        city_lat = city_weather[\"coord\"][\"lat\"]\n",
    "        city_lng = city_weather[\"coord\"][\"lon\"]\n",
    "        city_max_temp = city_weather[\"main\"][\"temp_max\"]\n",
    "        city_humidity = city_weather[\"main\"][\"humidity\"]\n",
    "        city_clouds = city_weather[\"clouds\"][\"all\"]\n",
    "        city_wind = city_weather[\"wind\"][\"speed\"]\n",
    "        city_country = city_weather[\"sys\"][\"country\"]\n",
    "        city_date = city_weather[\"dt\"]\n",
    "\n",
    "       \n",
    "        city_data.append({\"City\": city, \n",
    "                          \"Lat\": city_lat, \n",
    "                          \"Lng\": city_lng, \n",
    "                          \"Max Temp\": city_max_temp,\n",
    "                          \"Humidity\": city_humidity,\n",
    "                          \"Cloudiness\": city_clouds,\n",
    "                          \"Wind Speed\": city_wind,\n",
    "                          \"Country\": city_country,\n",
    "                          \"Date\": city_date})\n",
    "\n",
    "    \n",
    "    except:\n",
    "        print(\"City not found. Skipping...\")\n",
    "        pass\n",
    "              \n",
    " \n",
    "print(\"-----------------------------\")\n",
    "print(\"Data Retrieval Complete      \")\n",
    "print(\"-----------------------------\")\n",
    "        "
   ]
  },
  {
   "cell_type": "markdown",
   "metadata": {},
   "source": [
    "### Convert Raw Data to DataFrame\n",
    "* Export the city data into a .csv.\n",
    "* Display the DataFrame"
   ]
  },
  {
   "cell_type": "code",
   "execution_count": 4,
   "metadata": {},
   "outputs": [
    {
     "data": {
      "text/plain": [
       "City          533\n",
       "Lat           533\n",
       "Lng           533\n",
       "Max Temp      533\n",
       "Humidity      533\n",
       "Cloudiness    533\n",
       "Wind Speed    533\n",
       "Country       533\n",
       "Date          533\n",
       "dtype: int64"
      ]
     },
     "execution_count": 4,
     "metadata": {},
     "output_type": "execute_result"
    }
   ],
   "source": [
    "city_data_df=pd.DataFrame(city_data)\n",
    "city_data_df.count()"
   ]
  },
  {
   "cell_type": "code",
   "execution_count": 5,
   "metadata": {},
   "outputs": [
    {
     "data": {
      "text/html": [
       "<div>\n",
       "<style scoped>\n",
       "    .dataframe tbody tr th:only-of-type {\n",
       "        vertical-align: middle;\n",
       "    }\n",
       "\n",
       "    .dataframe tbody tr th {\n",
       "        vertical-align: top;\n",
       "    }\n",
       "\n",
       "    .dataframe thead th {\n",
       "        text-align: right;\n",
       "    }\n",
       "</style>\n",
       "<table border=\"1\" class=\"dataframe\">\n",
       "  <thead>\n",
       "    <tr style=\"text-align: right;\">\n",
       "      <th></th>\n",
       "      <th>City</th>\n",
       "      <th>Lat</th>\n",
       "      <th>Lng</th>\n",
       "      <th>Max Temp</th>\n",
       "      <th>Humidity</th>\n",
       "      <th>Cloudiness</th>\n",
       "      <th>Wind Speed</th>\n",
       "      <th>Country</th>\n",
       "      <th>Date</th>\n",
       "    </tr>\n",
       "  </thead>\n",
       "  <tbody>\n",
       "    <tr>\n",
       "      <th>0</th>\n",
       "      <td>port elizabeth</td>\n",
       "      <td>-33.9180</td>\n",
       "      <td>25.5701</td>\n",
       "      <td>64.40</td>\n",
       "      <td>94</td>\n",
       "      <td>0</td>\n",
       "      <td>13.80</td>\n",
       "      <td>ZA</td>\n",
       "      <td>1619134097</td>\n",
       "    </tr>\n",
       "    <tr>\n",
       "      <th>1</th>\n",
       "      <td>rikitea</td>\n",
       "      <td>-23.1203</td>\n",
       "      <td>-134.9692</td>\n",
       "      <td>78.13</td>\n",
       "      <td>75</td>\n",
       "      <td>87</td>\n",
       "      <td>14.36</td>\n",
       "      <td>PF</td>\n",
       "      <td>1619134316</td>\n",
       "    </tr>\n",
       "    <tr>\n",
       "      <th>2</th>\n",
       "      <td>puerto ayora</td>\n",
       "      <td>-0.7393</td>\n",
       "      <td>-90.3518</td>\n",
       "      <td>82.40</td>\n",
       "      <td>74</td>\n",
       "      <td>20</td>\n",
       "      <td>19.57</td>\n",
       "      <td>EC</td>\n",
       "      <td>1619134316</td>\n",
       "    </tr>\n",
       "    <tr>\n",
       "      <th>3</th>\n",
       "      <td>finschhafen</td>\n",
       "      <td>-6.6024</td>\n",
       "      <td>147.8681</td>\n",
       "      <td>84.97</td>\n",
       "      <td>69</td>\n",
       "      <td>75</td>\n",
       "      <td>7.76</td>\n",
       "      <td>PG</td>\n",
       "      <td>1619134317</td>\n",
       "    </tr>\n",
       "    <tr>\n",
       "      <th>4</th>\n",
       "      <td>yellowknife</td>\n",
       "      <td>62.4560</td>\n",
       "      <td>-114.3525</td>\n",
       "      <td>16.00</td>\n",
       "      <td>53</td>\n",
       "      <td>90</td>\n",
       "      <td>17.27</td>\n",
       "      <td>CA</td>\n",
       "      <td>1619134317</td>\n",
       "    </tr>\n",
       "  </tbody>\n",
       "</table>\n",
       "</div>"
      ],
      "text/plain": [
       "             City      Lat       Lng  Max Temp  Humidity  Cloudiness  \\\n",
       "0  port elizabeth -33.9180   25.5701     64.40        94           0   \n",
       "1         rikitea -23.1203 -134.9692     78.13        75          87   \n",
       "2    puerto ayora  -0.7393  -90.3518     82.40        74          20   \n",
       "3     finschhafen  -6.6024  147.8681     84.97        69          75   \n",
       "4     yellowknife  62.4560 -114.3525     16.00        53          90   \n",
       "\n",
       "   Wind Speed Country        Date  \n",
       "0       13.80      ZA  1619134097  \n",
       "1       14.36      PF  1619134316  \n",
       "2       19.57      EC  1619134316  \n",
       "3        7.76      PG  1619134317  \n",
       "4       17.27      CA  1619134317  "
      ]
     },
     "execution_count": 5,
     "metadata": {},
     "output_type": "execute_result"
    }
   ],
   "source": [
    "city_data_df.head()"
   ]
  },
  {
   "cell_type": "markdown",
   "metadata": {},
   "source": [
    "## Inspect the data and remove the cities where the humidity > 100%.\n",
    "----\n",
    "Skip this step if there are no cities that have humidity > 100%. "
   ]
  },
  {
   "cell_type": "code",
   "execution_count": 6,
   "metadata": {},
   "outputs": [
    {
     "data": {
      "text/html": [
       "<div>\n",
       "<style scoped>\n",
       "    .dataframe tbody tr th:only-of-type {\n",
       "        vertical-align: middle;\n",
       "    }\n",
       "\n",
       "    .dataframe tbody tr th {\n",
       "        vertical-align: top;\n",
       "    }\n",
       "\n",
       "    .dataframe thead th {\n",
       "        text-align: right;\n",
       "    }\n",
       "</style>\n",
       "<table border=\"1\" class=\"dataframe\">\n",
       "  <thead>\n",
       "    <tr style=\"text-align: right;\">\n",
       "      <th></th>\n",
       "      <th>Lat</th>\n",
       "      <th>Lng</th>\n",
       "      <th>Max Temp</th>\n",
       "      <th>Humidity</th>\n",
       "      <th>Cloudiness</th>\n",
       "      <th>Wind Speed</th>\n",
       "      <th>Date</th>\n",
       "    </tr>\n",
       "  </thead>\n",
       "  <tbody>\n",
       "    <tr>\n",
       "      <th>count</th>\n",
       "      <td>533.000000</td>\n",
       "      <td>533.000000</td>\n",
       "      <td>533.000000</td>\n",
       "      <td>533.000000</td>\n",
       "      <td>533.000000</td>\n",
       "      <td>533.000000</td>\n",
       "      <td>5.330000e+02</td>\n",
       "    </tr>\n",
       "    <tr>\n",
       "      <th>mean</th>\n",
       "      <td>20.078700</td>\n",
       "      <td>17.221419</td>\n",
       "      <td>60.074203</td>\n",
       "      <td>69.534709</td>\n",
       "      <td>56.615385</td>\n",
       "      <td>8.415235</td>\n",
       "      <td>1.619134e+09</td>\n",
       "    </tr>\n",
       "    <tr>\n",
       "      <th>std</th>\n",
       "      <td>33.249983</td>\n",
       "      <td>91.425394</td>\n",
       "      <td>19.739369</td>\n",
       "      <td>22.355997</td>\n",
       "      <td>37.388535</td>\n",
       "      <td>5.927069</td>\n",
       "      <td>7.940276e+01</td>\n",
       "    </tr>\n",
       "    <tr>\n",
       "      <th>min</th>\n",
       "      <td>-54.800000</td>\n",
       "      <td>-175.200000</td>\n",
       "      <td>0.910000</td>\n",
       "      <td>6.000000</td>\n",
       "      <td>0.000000</td>\n",
       "      <td>0.200000</td>\n",
       "      <td>1.619134e+09</td>\n",
       "    </tr>\n",
       "    <tr>\n",
       "      <th>25%</th>\n",
       "      <td>-6.176100</td>\n",
       "      <td>-66.382100</td>\n",
       "      <td>44.600000</td>\n",
       "      <td>59.000000</td>\n",
       "      <td>20.000000</td>\n",
       "      <td>4.000000</td>\n",
       "      <td>1.619134e+09</td>\n",
       "    </tr>\n",
       "    <tr>\n",
       "      <th>50%</th>\n",
       "      <td>24.687700</td>\n",
       "      <td>23.716200</td>\n",
       "      <td>63.000000</td>\n",
       "      <td>76.000000</td>\n",
       "      <td>73.000000</td>\n",
       "      <td>7.000000</td>\n",
       "      <td>1.619134e+09</td>\n",
       "    </tr>\n",
       "    <tr>\n",
       "      <th>75%</th>\n",
       "      <td>48.005600</td>\n",
       "      <td>97.200000</td>\n",
       "      <td>77.000000</td>\n",
       "      <td>86.000000</td>\n",
       "      <td>90.000000</td>\n",
       "      <td>11.500000</td>\n",
       "      <td>1.619134e+09</td>\n",
       "    </tr>\n",
       "    <tr>\n",
       "      <th>max</th>\n",
       "      <td>78.218600</td>\n",
       "      <td>179.316700</td>\n",
       "      <td>91.470000</td>\n",
       "      <td>100.000000</td>\n",
       "      <td>100.000000</td>\n",
       "      <td>41.470000</td>\n",
       "      <td>1.619134e+09</td>\n",
       "    </tr>\n",
       "  </tbody>\n",
       "</table>\n",
       "</div>"
      ],
      "text/plain": [
       "              Lat         Lng    Max Temp    Humidity  Cloudiness  Wind Speed  \\\n",
       "count  533.000000  533.000000  533.000000  533.000000  533.000000  533.000000   \n",
       "mean    20.078700   17.221419   60.074203   69.534709   56.615385    8.415235   \n",
       "std     33.249983   91.425394   19.739369   22.355997   37.388535    5.927069   \n",
       "min    -54.800000 -175.200000    0.910000    6.000000    0.000000    0.200000   \n",
       "25%     -6.176100  -66.382100   44.600000   59.000000   20.000000    4.000000   \n",
       "50%     24.687700   23.716200   63.000000   76.000000   73.000000    7.000000   \n",
       "75%     48.005600   97.200000   77.000000   86.000000   90.000000   11.500000   \n",
       "max     78.218600  179.316700   91.470000  100.000000  100.000000   41.470000   \n",
       "\n",
       "               Date  \n",
       "count  5.330000e+02  \n",
       "mean   1.619134e+09  \n",
       "std    7.940276e+01  \n",
       "min    1.619134e+09  \n",
       "25%    1.619134e+09  \n",
       "50%    1.619134e+09  \n",
       "75%    1.619134e+09  \n",
       "max    1.619134e+09  "
      ]
     },
     "execution_count": 6,
     "metadata": {},
     "output_type": "execute_result"
    }
   ],
   "source": [
    "city_data_df.describe()"
   ]
  },
  {
   "cell_type": "code",
   "execution_count": 8,
   "metadata": {},
   "outputs": [
    {
     "data": {
      "text/plain": [
       "Int64Index([], dtype='int64')"
      ]
     },
     "execution_count": 8,
     "metadata": {},
     "output_type": "execute_result"
    }
   ],
   "source": [
    "#  Get the indices of cities that have humidity over 100%.\n",
    "humid_cities = city_data_df[(city_data_df[\"Humidity\"] > 100)].index\n",
    "                                  \n",
    "humid_cities"
   ]
  },
  {
   "cell_type": "code",
   "execution_count": 9,
   "metadata": {},
   "outputs": [
    {
     "data": {
      "text/html": [
       "<div>\n",
       "<style scoped>\n",
       "    .dataframe tbody tr th:only-of-type {\n",
       "        vertical-align: middle;\n",
       "    }\n",
       "\n",
       "    .dataframe tbody tr th {\n",
       "        vertical-align: top;\n",
       "    }\n",
       "\n",
       "    .dataframe thead th {\n",
       "        text-align: right;\n",
       "    }\n",
       "</style>\n",
       "<table border=\"1\" class=\"dataframe\">\n",
       "  <thead>\n",
       "    <tr style=\"text-align: right;\">\n",
       "      <th></th>\n",
       "      <th>City</th>\n",
       "      <th>Lat</th>\n",
       "      <th>Lng</th>\n",
       "      <th>Max Temp</th>\n",
       "      <th>Humidity</th>\n",
       "      <th>Cloudiness</th>\n",
       "      <th>Wind Speed</th>\n",
       "      <th>Country</th>\n",
       "      <th>Date</th>\n",
       "    </tr>\n",
       "  </thead>\n",
       "  <tbody>\n",
       "    <tr>\n",
       "      <th>0</th>\n",
       "      <td>port elizabeth</td>\n",
       "      <td>-33.9180</td>\n",
       "      <td>25.5701</td>\n",
       "      <td>64.40</td>\n",
       "      <td>94</td>\n",
       "      <td>0</td>\n",
       "      <td>13.80</td>\n",
       "      <td>ZA</td>\n",
       "      <td>1619134097</td>\n",
       "    </tr>\n",
       "    <tr>\n",
       "      <th>1</th>\n",
       "      <td>rikitea</td>\n",
       "      <td>-23.1203</td>\n",
       "      <td>-134.9692</td>\n",
       "      <td>78.13</td>\n",
       "      <td>75</td>\n",
       "      <td>87</td>\n",
       "      <td>14.36</td>\n",
       "      <td>PF</td>\n",
       "      <td>1619134316</td>\n",
       "    </tr>\n",
       "    <tr>\n",
       "      <th>2</th>\n",
       "      <td>puerto ayora</td>\n",
       "      <td>-0.7393</td>\n",
       "      <td>-90.3518</td>\n",
       "      <td>82.40</td>\n",
       "      <td>74</td>\n",
       "      <td>20</td>\n",
       "      <td>19.57</td>\n",
       "      <td>EC</td>\n",
       "      <td>1619134316</td>\n",
       "    </tr>\n",
       "    <tr>\n",
       "      <th>3</th>\n",
       "      <td>finschhafen</td>\n",
       "      <td>-6.6024</td>\n",
       "      <td>147.8681</td>\n",
       "      <td>84.97</td>\n",
       "      <td>69</td>\n",
       "      <td>75</td>\n",
       "      <td>7.76</td>\n",
       "      <td>PG</td>\n",
       "      <td>1619134317</td>\n",
       "    </tr>\n",
       "    <tr>\n",
       "      <th>4</th>\n",
       "      <td>yellowknife</td>\n",
       "      <td>62.4560</td>\n",
       "      <td>-114.3525</td>\n",
       "      <td>16.00</td>\n",
       "      <td>53</td>\n",
       "      <td>90</td>\n",
       "      <td>17.27</td>\n",
       "      <td>CA</td>\n",
       "      <td>1619134317</td>\n",
       "    </tr>\n",
       "  </tbody>\n",
       "</table>\n",
       "</div>"
      ],
      "text/plain": [
       "             City      Lat       Lng  Max Temp  Humidity  Cloudiness  \\\n",
       "0  port elizabeth -33.9180   25.5701     64.40        94           0   \n",
       "1         rikitea -23.1203 -134.9692     78.13        75          87   \n",
       "2    puerto ayora  -0.7393  -90.3518     82.40        74          20   \n",
       "3     finschhafen  -6.6024  147.8681     84.97        69          75   \n",
       "4     yellowknife  62.4560 -114.3525     16.00        53          90   \n",
       "\n",
       "   Wind Speed Country        Date  \n",
       "0       13.80      ZA  1619134097  \n",
       "1       14.36      PF  1619134316  \n",
       "2       19.57      EC  1619134316  \n",
       "3        7.76      PG  1619134317  \n",
       "4       17.27      CA  1619134317  "
      ]
     },
     "execution_count": 9,
     "metadata": {},
     "output_type": "execute_result"
    }
   ],
   "source": [
    "# Make a new DataFrame equal to the city data to drop all humidity outliers by index.\n",
    "# Passing \"inplace=False\" will make a copy of the city_data DataFrame, which we call \"clean_city_data\".\n",
    "non_humid_cities = city_data_df.drop(humid_cities)\n",
    "non_humid_cities.head()"
   ]
  },
  {
   "cell_type": "code",
   "execution_count": null,
   "metadata": {},
   "outputs": [],
   "source": [
    "\n"
   ]
  },
  {
   "cell_type": "markdown",
   "metadata": {},
   "source": [
    "## Plotting the Data\n",
    "* Use proper labeling of the plots using plot titles (including date of analysis) and axes labels.\n",
    "* Save the plotted figures as .pngs."
   ]
  },
  {
   "cell_type": "markdown",
   "metadata": {},
   "source": [
    "## Latitude vs. Temperature Plot"
   ]
  },
  {
   "cell_type": "code",
   "execution_count": 18,
   "metadata": {
    "scrolled": true
   },
   "outputs": [
    {
     "ename": "ValueError",
     "evalue": "x and y must be the same size",
     "output_type": "error",
     "traceback": [
      "\u001b[0;31m---------------------------------------------------------------------------\u001b[0m",
      "\u001b[0;31mValueError\u001b[0m                                Traceback (most recent call last)",
      "\u001b[0;32m<ipython-input-18-a1db0f5c051e>\u001b[0m in \u001b[0;36m<module>\u001b[0;34m\u001b[0m\n\u001b[1;32m      1\u001b[0m \u001b[0mmax_temp\u001b[0m \u001b[0;34m=\u001b[0m \u001b[0mnon_humid_cities\u001b[0m\u001b[0;34m[\u001b[0m\u001b[0;34m\"Max Temp\"\u001b[0m\u001b[0;34m]\u001b[0m\u001b[0;34m\u001b[0m\u001b[0;34m\u001b[0m\u001b[0m\n\u001b[0;32m----> 2\u001b[0;31m \u001b[0mplt\u001b[0m\u001b[0;34m.\u001b[0m\u001b[0mscatter\u001b[0m\u001b[0;34m(\u001b[0m\u001b[0mlats\u001b[0m\u001b[0;34m,\u001b[0m \u001b[0mmax_temp\u001b[0m\u001b[0;34m,\u001b[0m \u001b[0medgecolor\u001b[0m\u001b[0;34m=\u001b[0m\u001b[0;34m\"black\"\u001b[0m\u001b[0;34m,\u001b[0m\u001b[0mcolor\u001b[0m \u001b[0;34m=\u001b[0m\u001b[0;34m\"blue\"\u001b[0m\u001b[0;34m,\u001b[0m \u001b[0mmarker\u001b[0m\u001b[0;34m=\u001b[0m\u001b[0;34m\"o\"\u001b[0m\u001b[0;34m,\u001b[0m \u001b[0mlinewidths\u001b[0m\u001b[0;34m=\u001b[0m\u001b[0;36m1\u001b[0m\u001b[0;34m,\u001b[0m \u001b[0mlabel\u001b[0m\u001b[0;34m=\u001b[0m\u001b[0;34m\"Cities\"\u001b[0m\u001b[0;34m)\u001b[0m\u001b[0;34m\u001b[0m\u001b[0;34m\u001b[0m\u001b[0m\n\u001b[0m\u001b[1;32m      3\u001b[0m \u001b[0mplt\u001b[0m\u001b[0;34m.\u001b[0m\u001b[0mtitle\u001b[0m\u001b[0;34m(\u001b[0m\u001b[0;34m\"City Latitude vs. Max Temperature (04/01/20)\"\u001b[0m\u001b[0;34m)\u001b[0m\u001b[0;34m\u001b[0m\u001b[0;34m\u001b[0m\u001b[0m\n\u001b[1;32m      4\u001b[0m \u001b[0mplt\u001b[0m\u001b[0;34m.\u001b[0m\u001b[0mxlabel\u001b[0m\u001b[0;34m(\u001b[0m\u001b[0;34m\"Latitude\"\u001b[0m\u001b[0;34m)\u001b[0m\u001b[0;34m\u001b[0m\u001b[0;34m\u001b[0m\u001b[0m\n\u001b[1;32m      5\u001b[0m \u001b[0mplt\u001b[0m\u001b[0;34m.\u001b[0m\u001b[0mylabel\u001b[0m\u001b[0;34m(\u001b[0m\u001b[0;34m\"Max Temperature (F)\"\u001b[0m\u001b[0;34m)\u001b[0m\u001b[0;34m\u001b[0m\u001b[0;34m\u001b[0m\u001b[0m\n",
      "\u001b[0;32m/opt/anaconda3/envs/PythonData/lib/python3.8/site-packages/matplotlib/pyplot.py\u001b[0m in \u001b[0;36mscatter\u001b[0;34m(x, y, s, c, marker, cmap, norm, vmin, vmax, alpha, linewidths, verts, edgecolors, plotnonfinite, data, **kwargs)\u001b[0m\n\u001b[1;32m   2888\u001b[0m         \u001b[0mverts\u001b[0m\u001b[0;34m=\u001b[0m\u001b[0mcbook\u001b[0m\u001b[0;34m.\u001b[0m\u001b[0mdeprecation\u001b[0m\u001b[0;34m.\u001b[0m\u001b[0m_deprecated_parameter\u001b[0m\u001b[0;34m,\u001b[0m\u001b[0;34m\u001b[0m\u001b[0;34m\u001b[0m\u001b[0m\n\u001b[1;32m   2889\u001b[0m         edgecolors=None, *, plotnonfinite=False, data=None, **kwargs):\n\u001b[0;32m-> 2890\u001b[0;31m     __ret = gca().scatter(\n\u001b[0m\u001b[1;32m   2891\u001b[0m         \u001b[0mx\u001b[0m\u001b[0;34m,\u001b[0m \u001b[0my\u001b[0m\u001b[0;34m,\u001b[0m \u001b[0ms\u001b[0m\u001b[0;34m=\u001b[0m\u001b[0ms\u001b[0m\u001b[0;34m,\u001b[0m \u001b[0mc\u001b[0m\u001b[0;34m=\u001b[0m\u001b[0mc\u001b[0m\u001b[0;34m,\u001b[0m \u001b[0mmarker\u001b[0m\u001b[0;34m=\u001b[0m\u001b[0mmarker\u001b[0m\u001b[0;34m,\u001b[0m \u001b[0mcmap\u001b[0m\u001b[0;34m=\u001b[0m\u001b[0mcmap\u001b[0m\u001b[0;34m,\u001b[0m \u001b[0mnorm\u001b[0m\u001b[0;34m=\u001b[0m\u001b[0mnorm\u001b[0m\u001b[0;34m,\u001b[0m\u001b[0;34m\u001b[0m\u001b[0;34m\u001b[0m\u001b[0m\n\u001b[1;32m   2892\u001b[0m         \u001b[0mvmin\u001b[0m\u001b[0;34m=\u001b[0m\u001b[0mvmin\u001b[0m\u001b[0;34m,\u001b[0m \u001b[0mvmax\u001b[0m\u001b[0;34m=\u001b[0m\u001b[0mvmax\u001b[0m\u001b[0;34m,\u001b[0m \u001b[0malpha\u001b[0m\u001b[0;34m=\u001b[0m\u001b[0malpha\u001b[0m\u001b[0;34m,\u001b[0m \u001b[0mlinewidths\u001b[0m\u001b[0;34m=\u001b[0m\u001b[0mlinewidths\u001b[0m\u001b[0;34m,\u001b[0m\u001b[0;34m\u001b[0m\u001b[0;34m\u001b[0m\u001b[0m\n",
      "\u001b[0;32m/opt/anaconda3/envs/PythonData/lib/python3.8/site-packages/matplotlib/__init__.py\u001b[0m in \u001b[0;36minner\u001b[0;34m(ax, data, *args, **kwargs)\u001b[0m\n\u001b[1;32m   1436\u001b[0m     \u001b[0;32mdef\u001b[0m \u001b[0minner\u001b[0m\u001b[0;34m(\u001b[0m\u001b[0max\u001b[0m\u001b[0;34m,\u001b[0m \u001b[0;34m*\u001b[0m\u001b[0margs\u001b[0m\u001b[0;34m,\u001b[0m \u001b[0mdata\u001b[0m\u001b[0;34m=\u001b[0m\u001b[0;32mNone\u001b[0m\u001b[0;34m,\u001b[0m \u001b[0;34m**\u001b[0m\u001b[0mkwargs\u001b[0m\u001b[0;34m)\u001b[0m\u001b[0;34m:\u001b[0m\u001b[0;34m\u001b[0m\u001b[0;34m\u001b[0m\u001b[0m\n\u001b[1;32m   1437\u001b[0m         \u001b[0;32mif\u001b[0m \u001b[0mdata\u001b[0m \u001b[0;32mis\u001b[0m \u001b[0;32mNone\u001b[0m\u001b[0;34m:\u001b[0m\u001b[0;34m\u001b[0m\u001b[0;34m\u001b[0m\u001b[0m\n\u001b[0;32m-> 1438\u001b[0;31m             \u001b[0;32mreturn\u001b[0m \u001b[0mfunc\u001b[0m\u001b[0;34m(\u001b[0m\u001b[0max\u001b[0m\u001b[0;34m,\u001b[0m \u001b[0;34m*\u001b[0m\u001b[0mmap\u001b[0m\u001b[0;34m(\u001b[0m\u001b[0msanitize_sequence\u001b[0m\u001b[0;34m,\u001b[0m \u001b[0margs\u001b[0m\u001b[0;34m)\u001b[0m\u001b[0;34m,\u001b[0m \u001b[0;34m**\u001b[0m\u001b[0mkwargs\u001b[0m\u001b[0;34m)\u001b[0m\u001b[0;34m\u001b[0m\u001b[0;34m\u001b[0m\u001b[0m\n\u001b[0m\u001b[1;32m   1439\u001b[0m \u001b[0;34m\u001b[0m\u001b[0m\n\u001b[1;32m   1440\u001b[0m         \u001b[0mbound\u001b[0m \u001b[0;34m=\u001b[0m \u001b[0mnew_sig\u001b[0m\u001b[0;34m.\u001b[0m\u001b[0mbind\u001b[0m\u001b[0;34m(\u001b[0m\u001b[0max\u001b[0m\u001b[0;34m,\u001b[0m \u001b[0;34m*\u001b[0m\u001b[0margs\u001b[0m\u001b[0;34m,\u001b[0m \u001b[0;34m**\u001b[0m\u001b[0mkwargs\u001b[0m\u001b[0;34m)\u001b[0m\u001b[0;34m\u001b[0m\u001b[0;34m\u001b[0m\u001b[0m\n",
      "\u001b[0;32m/opt/anaconda3/envs/PythonData/lib/python3.8/site-packages/matplotlib/cbook/deprecation.py\u001b[0m in \u001b[0;36mwrapper\u001b[0;34m(*inner_args, **inner_kwargs)\u001b[0m\n\u001b[1;32m    409\u001b[0m                          \u001b[0;32melse\u001b[0m \u001b[0mdeprecation_addendum\u001b[0m\u001b[0;34m,\u001b[0m\u001b[0;34m\u001b[0m\u001b[0;34m\u001b[0m\u001b[0m\n\u001b[1;32m    410\u001b[0m                 **kwargs)\n\u001b[0;32m--> 411\u001b[0;31m         \u001b[0;32mreturn\u001b[0m \u001b[0mfunc\u001b[0m\u001b[0;34m(\u001b[0m\u001b[0;34m*\u001b[0m\u001b[0minner_args\u001b[0m\u001b[0;34m,\u001b[0m \u001b[0;34m**\u001b[0m\u001b[0minner_kwargs\u001b[0m\u001b[0;34m)\u001b[0m\u001b[0;34m\u001b[0m\u001b[0;34m\u001b[0m\u001b[0m\n\u001b[0m\u001b[1;32m    412\u001b[0m \u001b[0;34m\u001b[0m\u001b[0m\n\u001b[1;32m    413\u001b[0m     \u001b[0;32mreturn\u001b[0m \u001b[0mwrapper\u001b[0m\u001b[0;34m\u001b[0m\u001b[0;34m\u001b[0m\u001b[0m\n",
      "\u001b[0;32m/opt/anaconda3/envs/PythonData/lib/python3.8/site-packages/matplotlib/axes/_axes.py\u001b[0m in \u001b[0;36mscatter\u001b[0;34m(self, x, y, s, c, marker, cmap, norm, vmin, vmax, alpha, linewidths, verts, edgecolors, plotnonfinite, **kwargs)\u001b[0m\n\u001b[1;32m   4439\u001b[0m         \u001b[0my\u001b[0m \u001b[0;34m=\u001b[0m \u001b[0mnp\u001b[0m\u001b[0;34m.\u001b[0m\u001b[0mma\u001b[0m\u001b[0;34m.\u001b[0m\u001b[0mravel\u001b[0m\u001b[0;34m(\u001b[0m\u001b[0my\u001b[0m\u001b[0;34m)\u001b[0m\u001b[0;34m\u001b[0m\u001b[0;34m\u001b[0m\u001b[0m\n\u001b[1;32m   4440\u001b[0m         \u001b[0;32mif\u001b[0m \u001b[0mx\u001b[0m\u001b[0;34m.\u001b[0m\u001b[0msize\u001b[0m \u001b[0;34m!=\u001b[0m \u001b[0my\u001b[0m\u001b[0;34m.\u001b[0m\u001b[0msize\u001b[0m\u001b[0;34m:\u001b[0m\u001b[0;34m\u001b[0m\u001b[0;34m\u001b[0m\u001b[0m\n\u001b[0;32m-> 4441\u001b[0;31m             \u001b[0;32mraise\u001b[0m \u001b[0mValueError\u001b[0m\u001b[0;34m(\u001b[0m\u001b[0;34m\"x and y must be the same size\"\u001b[0m\u001b[0;34m)\u001b[0m\u001b[0;34m\u001b[0m\u001b[0;34m\u001b[0m\u001b[0m\n\u001b[0m\u001b[1;32m   4442\u001b[0m \u001b[0;34m\u001b[0m\u001b[0m\n\u001b[1;32m   4443\u001b[0m         \u001b[0;32mif\u001b[0m \u001b[0ms\u001b[0m \u001b[0;32mis\u001b[0m \u001b[0;32mNone\u001b[0m\u001b[0;34m:\u001b[0m\u001b[0;34m\u001b[0m\u001b[0;34m\u001b[0m\u001b[0m\n",
      "\u001b[0;31mValueError\u001b[0m: x and y must be the same size"
     ]
    },
    {
     "data": {
      "image/png": "[encoded data removed]",
      "text/plain": [
       "<Figure size 432x288 with 1 Axes>"
      ]
     },
     "metadata": {
      "needs_background": "light"
     },
     "output_type": "display_data"
    }
   ],
   "source": [
    "max_temp = non_humid_cities[\"Max Temp\"]\n",
    "plt.scatter(lats, max_temp, edgecolor=\"black\",color =\"blue\", marker=\"o\", linewidths=1, label=\"Cities\")\n",
    "plt.title(\"City Latitude vs. Max Temperature (04/01/20)\")\n",
    "plt.xlabel(\"Latitude\")\n",
    "plt.ylabel(\"Max Temperature (F)\")\n",
    "plt.grid(True)\n",
    "\n",
    "\n",
    "\n",
    "plt.show()"
   ]
  },
  {
   "cell_type": "markdown",
   "metadata": {},
   "source": [
    "## Latitude vs. Humidity Plot"
   ]
  },
  {
   "cell_type": "code",
   "execution_count": 19,
   "metadata": {},
   "outputs": [
    {
     "ename": "ValueError",
     "evalue": "x and y must be the same size",
     "output_type": "error",
     "traceback": [
      "\u001b[0;31m---------------------------------------------------------------------------\u001b[0m",
      "\u001b[0;31mValueError\u001b[0m                                Traceback (most recent call last)",
      "\u001b[0;32m<ipython-input-19-a6e122db48ce>\u001b[0m in \u001b[0;36m<module>\u001b[0;34m\u001b[0m\n\u001b[1;32m      1\u001b[0m \u001b[0mhumidity\u001b[0m \u001b[0;34m=\u001b[0m \u001b[0mnon_humid_cities\u001b[0m\u001b[0;34m[\u001b[0m\u001b[0;34m\"Humidity\"\u001b[0m\u001b[0;34m]\u001b[0m\u001b[0;34m\u001b[0m\u001b[0;34m\u001b[0m\u001b[0m\n\u001b[0;32m----> 2\u001b[0;31m \u001b[0mplt\u001b[0m\u001b[0;34m.\u001b[0m\u001b[0mscatter\u001b[0m\u001b[0;34m(\u001b[0m\u001b[0mlats\u001b[0m\u001b[0;34m,\u001b[0m \u001b[0mhumidity\u001b[0m\u001b[0;34m,\u001b[0m \u001b[0medgecolor\u001b[0m\u001b[0;34m=\u001b[0m\u001b[0;34m\"black\"\u001b[0m\u001b[0;34m,\u001b[0m \u001b[0mfacecolor\u001b[0m\u001b[0;34m=\u001b[0m\u001b[0;34m\"blue\"\u001b[0m\u001b[0;34m,\u001b[0m \u001b[0mmarker\u001b[0m\u001b[0;34m=\u001b[0m\u001b[0;34m\"o\"\u001b[0m\u001b[0;34m,\u001b[0m \u001b[0mlabel\u001b[0m\u001b[0;34m=\u001b[0m\u001b[0;34m\"Cities\"\u001b[0m\u001b[0;34m)\u001b[0m\u001b[0;34m\u001b[0m\u001b[0;34m\u001b[0m\u001b[0m\n\u001b[0m\u001b[1;32m      3\u001b[0m \u001b[0;34m\u001b[0m\u001b[0m\n\u001b[1;32m      4\u001b[0m \u001b[0mplt\u001b[0m\u001b[0;34m.\u001b[0m\u001b[0mtitle\u001b[0m\u001b[0;34m(\u001b[0m\u001b[0;34m\"City Latitude vs. Humidity (04/01/20)\"\u001b[0m\u001b[0;34m)\u001b[0m\u001b[0;34m\u001b[0m\u001b[0;34m\u001b[0m\u001b[0m\n\u001b[1;32m      5\u001b[0m \u001b[0mplt\u001b[0m\u001b[0;34m.\u001b[0m\u001b[0mxlabel\u001b[0m\u001b[0;34m(\u001b[0m\u001b[0;34m\"Latitude\"\u001b[0m\u001b[0;34m)\u001b[0m\u001b[0;34m\u001b[0m\u001b[0;34m\u001b[0m\u001b[0m\n",
      "\u001b[0;32m/opt/anaconda3/envs/PythonData/lib/python3.8/site-packages/matplotlib/pyplot.py\u001b[0m in \u001b[0;36mscatter\u001b[0;34m(x, y, s, c, marker, cmap, norm, vmin, vmax, alpha, linewidths, verts, edgecolors, plotnonfinite, data, **kwargs)\u001b[0m\n\u001b[1;32m   2888\u001b[0m         \u001b[0mverts\u001b[0m\u001b[0;34m=\u001b[0m\u001b[0mcbook\u001b[0m\u001b[0;34m.\u001b[0m\u001b[0mdeprecation\u001b[0m\u001b[0;34m.\u001b[0m\u001b[0m_deprecated_parameter\u001b[0m\u001b[0;34m,\u001b[0m\u001b[0;34m\u001b[0m\u001b[0;34m\u001b[0m\u001b[0m\n\u001b[1;32m   2889\u001b[0m         edgecolors=None, *, plotnonfinite=False, data=None, **kwargs):\n\u001b[0;32m-> 2890\u001b[0;31m     __ret = gca().scatter(\n\u001b[0m\u001b[1;32m   2891\u001b[0m         \u001b[0mx\u001b[0m\u001b[0;34m,\u001b[0m \u001b[0my\u001b[0m\u001b[0;34m,\u001b[0m \u001b[0ms\u001b[0m\u001b[0;34m=\u001b[0m\u001b[0ms\u001b[0m\u001b[0;34m,\u001b[0m \u001b[0mc\u001b[0m\u001b[0;34m=\u001b[0m\u001b[0mc\u001b[0m\u001b[0;34m,\u001b[0m \u001b[0mmarker\u001b[0m\u001b[0;34m=\u001b[0m\u001b[0mmarker\u001b[0m\u001b[0;34m,\u001b[0m \u001b[0mcmap\u001b[0m\u001b[0;34m=\u001b[0m\u001b[0mcmap\u001b[0m\u001b[0;34m,\u001b[0m \u001b[0mnorm\u001b[0m\u001b[0;34m=\u001b[0m\u001b[0mnorm\u001b[0m\u001b[0;34m,\u001b[0m\u001b[0;34m\u001b[0m\u001b[0;34m\u001b[0m\u001b[0m\n\u001b[1;32m   2892\u001b[0m         \u001b[0mvmin\u001b[0m\u001b[0;34m=\u001b[0m\u001b[0mvmin\u001b[0m\u001b[0;34m,\u001b[0m \u001b[0mvmax\u001b[0m\u001b[0;34m=\u001b[0m\u001b[0mvmax\u001b[0m\u001b[0;34m,\u001b[0m \u001b[0malpha\u001b[0m\u001b[0;34m=\u001b[0m\u001b[0malpha\u001b[0m\u001b[0;34m,\u001b[0m \u001b[0mlinewidths\u001b[0m\u001b[0;34m=\u001b[0m\u001b[0mlinewidths\u001b[0m\u001b[0;34m,\u001b[0m\u001b[0;34m\u001b[0m\u001b[0;34m\u001b[0m\u001b[0m\n",
      "\u001b[0;32m/opt/anaconda3/envs/PythonData/lib/python3.8/site-packages/matplotlib/__init__.py\u001b[0m in \u001b[0;36minner\u001b[0;34m(ax, data, *args, **kwargs)\u001b[0m\n\u001b[1;32m   1436\u001b[0m     \u001b[0;32mdef\u001b[0m \u001b[0minner\u001b[0m\u001b[0;34m(\u001b[0m\u001b[0max\u001b[0m\u001b[0;34m,\u001b[0m \u001b[0;34m*\u001b[0m\u001b[0margs\u001b[0m\u001b[0;34m,\u001b[0m \u001b[0mdata\u001b[0m\u001b[0;34m=\u001b[0m\u001b[0;32mNone\u001b[0m\u001b[0;34m,\u001b[0m \u001b[0;34m**\u001b[0m\u001b[0mkwargs\u001b[0m\u001b[0;34m)\u001b[0m\u001b[0;34m:\u001b[0m\u001b[0;34m\u001b[0m\u001b[0;34m\u001b[0m\u001b[0m\n\u001b[1;32m   1437\u001b[0m         \u001b[0;32mif\u001b[0m \u001b[0mdata\u001b[0m \u001b[0;32mis\u001b[0m \u001b[0;32mNone\u001b[0m\u001b[0;34m:\u001b[0m\u001b[0;34m\u001b[0m\u001b[0;34m\u001b[0m\u001b[0m\n\u001b[0;32m-> 1438\u001b[0;31m             \u001b[0;32mreturn\u001b[0m \u001b[0mfunc\u001b[0m\u001b[0;34m(\u001b[0m\u001b[0max\u001b[0m\u001b[0;34m,\u001b[0m \u001b[0;34m*\u001b[0m\u001b[0mmap\u001b[0m\u001b[0;34m(\u001b[0m\u001b[0msanitize_sequence\u001b[0m\u001b[0;34m,\u001b[0m \u001b[0margs\u001b[0m\u001b[0;34m)\u001b[0m\u001b[0;34m,\u001b[0m \u001b[0;34m**\u001b[0m\u001b[0mkwargs\u001b[0m\u001b[0;34m)\u001b[0m\u001b[0;34m\u001b[0m\u001b[0;34m\u001b[0m\u001b[0m\n\u001b[0m\u001b[1;32m   1439\u001b[0m \u001b[0;34m\u001b[0m\u001b[0m\n\u001b[1;32m   1440\u001b[0m         \u001b[0mbound\u001b[0m \u001b[0;34m=\u001b[0m \u001b[0mnew_sig\u001b[0m\u001b[0;34m.\u001b[0m\u001b[0mbind\u001b[0m\u001b[0;34m(\u001b[0m\u001b[0max\u001b[0m\u001b[0;34m,\u001b[0m \u001b[0;34m*\u001b[0m\u001b[0margs\u001b[0m\u001b[0;34m,\u001b[0m \u001b[0;34m**\u001b[0m\u001b[0mkwargs\u001b[0m\u001b[0;34m)\u001b[0m\u001b[0;34m\u001b[0m\u001b[0;34m\u001b[0m\u001b[0m\n",
      "\u001b[0;32m/opt/anaconda3/envs/PythonData/lib/python3.8/site-packages/matplotlib/cbook/deprecation.py\u001b[0m in \u001b[0;36mwrapper\u001b[0;34m(*inner_args, **inner_kwargs)\u001b[0m\n\u001b[1;32m    409\u001b[0m                          \u001b[0;32melse\u001b[0m \u001b[0mdeprecation_addendum\u001b[0m\u001b[0;34m,\u001b[0m\u001b[0;34m\u001b[0m\u001b[0;34m\u001b[0m\u001b[0m\n\u001b[1;32m    410\u001b[0m                 **kwargs)\n\u001b[0;32m--> 411\u001b[0;31m         \u001b[0;32mreturn\u001b[0m \u001b[0mfunc\u001b[0m\u001b[0;34m(\u001b[0m\u001b[0;34m*\u001b[0m\u001b[0minner_args\u001b[0m\u001b[0;34m,\u001b[0m \u001b[0;34m**\u001b[0m\u001b[0minner_kwargs\u001b[0m\u001b[0;34m)\u001b[0m\u001b[0;34m\u001b[0m\u001b[0;34m\u001b[0m\u001b[0m\n\u001b[0m\u001b[1;32m    412\u001b[0m \u001b[0;34m\u001b[0m\u001b[0m\n\u001b[1;32m    413\u001b[0m     \u001b[0;32mreturn\u001b[0m \u001b[0mwrapper\u001b[0m\u001b[0;34m\u001b[0m\u001b[0;34m\u001b[0m\u001b[0m\n",
      "\u001b[0;32m/opt/anaconda3/envs/PythonData/lib/python3.8/site-packages/matplotlib/axes/_axes.py\u001b[0m in \u001b[0;36mscatter\u001b[0;34m(self, x, y, s, c, marker, cmap, norm, vmin, vmax, alpha, linewidths, verts, edgecolors, plotnonfinite, **kwargs)\u001b[0m\n\u001b[1;32m   4439\u001b[0m         \u001b[0my\u001b[0m \u001b[0;34m=\u001b[0m \u001b[0mnp\u001b[0m\u001b[0;34m.\u001b[0m\u001b[0mma\u001b[0m\u001b[0;34m.\u001b[0m\u001b[0mravel\u001b[0m\u001b[0;34m(\u001b[0m\u001b[0my\u001b[0m\u001b[0;34m)\u001b[0m\u001b[0;34m\u001b[0m\u001b[0;34m\u001b[0m\u001b[0m\n\u001b[1;32m   4440\u001b[0m         \u001b[0;32mif\u001b[0m \u001b[0mx\u001b[0m\u001b[0;34m.\u001b[0m\u001b[0msize\u001b[0m \u001b[0;34m!=\u001b[0m \u001b[0my\u001b[0m\u001b[0;34m.\u001b[0m\u001b[0msize\u001b[0m\u001b[0;34m:\u001b[0m\u001b[0;34m\u001b[0m\u001b[0;34m\u001b[0m\u001b[0m\n\u001b[0;32m-> 4441\u001b[0;31m             \u001b[0;32mraise\u001b[0m \u001b[0mValueError\u001b[0m\u001b[0;34m(\u001b[0m\u001b[0;34m\"x and y must be the same size\"\u001b[0m\u001b[0;34m)\u001b[0m\u001b[0;34m\u001b[0m\u001b[0;34m\u001b[0m\u001b[0m\n\u001b[0m\u001b[1;32m   4442\u001b[0m \u001b[0;34m\u001b[0m\u001b[0m\n\u001b[1;32m   4443\u001b[0m         \u001b[0;32mif\u001b[0m \u001b[0ms\u001b[0m \u001b[0;32mis\u001b[0m \u001b[0;32mNone\u001b[0m\u001b[0;34m:\u001b[0m\u001b[0;34m\u001b[0m\u001b[0;34m\u001b[0m\u001b[0m\n",
      "\u001b[0;31mValueError\u001b[0m: x and y must be the same size"
     ]
    },
    {
     "data": {
      "image/png": "[encoded data removed]",
      "text/plain": [
       "<Figure size 432x288 with 1 Axes>"
      ]
     },
     "metadata": {
      "needs_background": "light"
     },
     "output_type": "display_data"
    }
   ],
   "source": [
    "humidity = non_humid_cities[\"Humidity\"]\n",
    "plt.scatter(lats, humidity, edgecolor=\"black\", facecolor=\"blue\", marker=\"o\", label=\"Cities\")\n",
    "\n",
    "plt.title(\"City Latitude vs. Humidity (04/01/20)\")\n",
    "plt.xlabel(\"Latitude\")\n",
    "plt.ylabel(\"Humidity(%)\")\n",
    "plt.grid(True)\n",
    "\n",
    "plt.show()"
   ]
  },
  {
   "cell_type": "markdown",
   "metadata": {},
   "source": [
    "## Latitude vs. Cloudiness Plot"
   ]
  },
  {
   "cell_type": "code",
   "execution_count": 20,
   "metadata": {},
   "outputs": [
    {
     "ename": "ValueError",
     "evalue": "x and y must be the same size",
     "output_type": "error",
     "traceback": [
      "\u001b[0;31m---------------------------------------------------------------------------\u001b[0m",
      "\u001b[0;31mValueError\u001b[0m                                Traceback (most recent call last)",
      "\u001b[0;32m<ipython-input-20-f119e8a06b86>\u001b[0m in \u001b[0;36m<module>\u001b[0;34m\u001b[0m\n\u001b[1;32m      1\u001b[0m \u001b[0mcloudiness\u001b[0m \u001b[0;34m=\u001b[0m \u001b[0mnon_humid_cities\u001b[0m\u001b[0;34m[\u001b[0m\u001b[0;34m\"Cloudiness\"\u001b[0m\u001b[0;34m]\u001b[0m\u001b[0;34m\u001b[0m\u001b[0;34m\u001b[0m\u001b[0m\n\u001b[0;32m----> 2\u001b[0;31m \u001b[0mplt\u001b[0m\u001b[0;34m.\u001b[0m\u001b[0mscatter\u001b[0m\u001b[0;34m(\u001b[0m\u001b[0mlats\u001b[0m\u001b[0;34m,\u001b[0m \u001b[0mcloudiness\u001b[0m\u001b[0;34m,\u001b[0m \u001b[0medgecolor\u001b[0m\u001b[0;34m=\u001b[0m\u001b[0;34m\"black\"\u001b[0m\u001b[0;34m,\u001b[0m \u001b[0mfacecolor\u001b[0m\u001b[0;34m=\u001b[0m\u001b[0;34m\"blue\"\u001b[0m\u001b[0;34m,\u001b[0m \u001b[0mmarker\u001b[0m\u001b[0;34m=\u001b[0m\u001b[0;34m\"o\"\u001b[0m\u001b[0;34m,\u001b[0m \u001b[0mlabel\u001b[0m\u001b[0;34m=\u001b[0m\u001b[0;34m\"Cities\"\u001b[0m\u001b[0;34m)\u001b[0m\u001b[0;34m\u001b[0m\u001b[0;34m\u001b[0m\u001b[0m\n\u001b[0m\u001b[1;32m      3\u001b[0m \u001b[0mplt\u001b[0m\u001b[0;34m.\u001b[0m\u001b[0mtitle\u001b[0m\u001b[0;34m(\u001b[0m\u001b[0;34m\"City Latitude vs. Cloudiness (04/01/20)\"\u001b[0m\u001b[0;34m)\u001b[0m\u001b[0;34m\u001b[0m\u001b[0;34m\u001b[0m\u001b[0m\n\u001b[1;32m      4\u001b[0m \u001b[0mplt\u001b[0m\u001b[0;34m.\u001b[0m\u001b[0mxlabel\u001b[0m\u001b[0;34m(\u001b[0m\u001b[0;34m\"Latitude\"\u001b[0m\u001b[0;34m)\u001b[0m\u001b[0;34m\u001b[0m\u001b[0;34m\u001b[0m\u001b[0m\n\u001b[1;32m      5\u001b[0m \u001b[0mplt\u001b[0m\u001b[0;34m.\u001b[0m\u001b[0mylabel\u001b[0m\u001b[0;34m(\u001b[0m\u001b[0;34m\"Cloudiness(%)\"\u001b[0m\u001b[0;34m)\u001b[0m\u001b[0;34m\u001b[0m\u001b[0;34m\u001b[0m\u001b[0m\n",
      "\u001b[0;32m/opt/anaconda3/envs/PythonData/lib/python3.8/site-packages/matplotlib/pyplot.py\u001b[0m in \u001b[0;36mscatter\u001b[0;34m(x, y, s, c, marker, cmap, norm, vmin, vmax, alpha, linewidths, verts, edgecolors, plotnonfinite, data, **kwargs)\u001b[0m\n\u001b[1;32m   2888\u001b[0m         \u001b[0mverts\u001b[0m\u001b[0;34m=\u001b[0m\u001b[0mcbook\u001b[0m\u001b[0;34m.\u001b[0m\u001b[0mdeprecation\u001b[0m\u001b[0;34m.\u001b[0m\u001b[0m_deprecated_parameter\u001b[0m\u001b[0;34m,\u001b[0m\u001b[0;34m\u001b[0m\u001b[0;34m\u001b[0m\u001b[0m\n\u001b[1;32m   2889\u001b[0m         edgecolors=None, *, plotnonfinite=False, data=None, **kwargs):\n\u001b[0;32m-> 2890\u001b[0;31m     __ret = gca().scatter(\n\u001b[0m\u001b[1;32m   2891\u001b[0m         \u001b[0mx\u001b[0m\u001b[0;34m,\u001b[0m \u001b[0my\u001b[0m\u001b[0;34m,\u001b[0m \u001b[0ms\u001b[0m\u001b[0;34m=\u001b[0m\u001b[0ms\u001b[0m\u001b[0;34m,\u001b[0m \u001b[0mc\u001b[0m\u001b[0;34m=\u001b[0m\u001b[0mc\u001b[0m\u001b[0;34m,\u001b[0m \u001b[0mmarker\u001b[0m\u001b[0;34m=\u001b[0m\u001b[0mmarker\u001b[0m\u001b[0;34m,\u001b[0m \u001b[0mcmap\u001b[0m\u001b[0;34m=\u001b[0m\u001b[0mcmap\u001b[0m\u001b[0;34m,\u001b[0m \u001b[0mnorm\u001b[0m\u001b[0;34m=\u001b[0m\u001b[0mnorm\u001b[0m\u001b[0;34m,\u001b[0m\u001b[0;34m\u001b[0m\u001b[0;34m\u001b[0m\u001b[0m\n\u001b[1;32m   2892\u001b[0m         \u001b[0mvmin\u001b[0m\u001b[0;34m=\u001b[0m\u001b[0mvmin\u001b[0m\u001b[0;34m,\u001b[0m \u001b[0mvmax\u001b[0m\u001b[0;34m=\u001b[0m\u001b[0mvmax\u001b[0m\u001b[0;34m,\u001b[0m \u001b[0malpha\u001b[0m\u001b[0;34m=\u001b[0m\u001b[0malpha\u001b[0m\u001b[0;34m,\u001b[0m \u001b[0mlinewidths\u001b[0m\u001b[0;34m=\u001b[0m\u001b[0mlinewidths\u001b[0m\u001b[0;34m,\u001b[0m\u001b[0;34m\u001b[0m\u001b[0;34m\u001b[0m\u001b[0m\n",
      "\u001b[0;32m/opt/anaconda3/envs/PythonData/lib/python3.8/site-packages/matplotlib/__init__.py\u001b[0m in \u001b[0;36minner\u001b[0;34m(ax, data, *args, **kwargs)\u001b[0m\n\u001b[1;32m   1436\u001b[0m     \u001b[0;32mdef\u001b[0m \u001b[0minner\u001b[0m\u001b[0;34m(\u001b[0m\u001b[0max\u001b[0m\u001b[0;34m,\u001b[0m \u001b[0;34m*\u001b[0m\u001b[0margs\u001b[0m\u001b[0;34m,\u001b[0m \u001b[0mdata\u001b[0m\u001b[0;34m=\u001b[0m\u001b[0;32mNone\u001b[0m\u001b[0;34m,\u001b[0m \u001b[0;34m**\u001b[0m\u001b[0mkwargs\u001b[0m\u001b[0;34m)\u001b[0m\u001b[0;34m:\u001b[0m\u001b[0;34m\u001b[0m\u001b[0;34m\u001b[0m\u001b[0m\n\u001b[1;32m   1437\u001b[0m         \u001b[0;32mif\u001b[0m \u001b[0mdata\u001b[0m \u001b[0;32mis\u001b[0m \u001b[0;32mNone\u001b[0m\u001b[0;34m:\u001b[0m\u001b[0;34m\u001b[0m\u001b[0;34m\u001b[0m\u001b[0m\n\u001b[0;32m-> 1438\u001b[0;31m             \u001b[0;32mreturn\u001b[0m \u001b[0mfunc\u001b[0m\u001b[0;34m(\u001b[0m\u001b[0max\u001b[0m\u001b[0;34m,\u001b[0m \u001b[0;34m*\u001b[0m\u001b[0mmap\u001b[0m\u001b[0;34m(\u001b[0m\u001b[0msanitize_sequence\u001b[0m\u001b[0;34m,\u001b[0m \u001b[0margs\u001b[0m\u001b[0;34m)\u001b[0m\u001b[0;34m,\u001b[0m \u001b[0;34m**\u001b[0m\u001b[0mkwargs\u001b[0m\u001b[0;34m)\u001b[0m\u001b[0;34m\u001b[0m\u001b[0;34m\u001b[0m\u001b[0m\n\u001b[0m\u001b[1;32m   1439\u001b[0m \u001b[0;34m\u001b[0m\u001b[0m\n\u001b[1;32m   1440\u001b[0m         \u001b[0mbound\u001b[0m \u001b[0;34m=\u001b[0m \u001b[0mnew_sig\u001b[0m\u001b[0;34m.\u001b[0m\u001b[0mbind\u001b[0m\u001b[0;34m(\u001b[0m\u001b[0max\u001b[0m\u001b[0;34m,\u001b[0m \u001b[0;34m*\u001b[0m\u001b[0margs\u001b[0m\u001b[0;34m,\u001b[0m \u001b[0;34m**\u001b[0m\u001b[0mkwargs\u001b[0m\u001b[0;34m)\u001b[0m\u001b[0;34m\u001b[0m\u001b[0;34m\u001b[0m\u001b[0m\n",
      "\u001b[0;32m/opt/anaconda3/envs/PythonData/lib/python3.8/site-packages/matplotlib/cbook/deprecation.py\u001b[0m in \u001b[0;36mwrapper\u001b[0;34m(*inner_args, **inner_kwargs)\u001b[0m\n\u001b[1;32m    409\u001b[0m                          \u001b[0;32melse\u001b[0m \u001b[0mdeprecation_addendum\u001b[0m\u001b[0;34m,\u001b[0m\u001b[0;34m\u001b[0m\u001b[0;34m\u001b[0m\u001b[0m\n\u001b[1;32m    410\u001b[0m                 **kwargs)\n\u001b[0;32m--> 411\u001b[0;31m         \u001b[0;32mreturn\u001b[0m \u001b[0mfunc\u001b[0m\u001b[0;34m(\u001b[0m\u001b[0;34m*\u001b[0m\u001b[0minner_args\u001b[0m\u001b[0;34m,\u001b[0m \u001b[0;34m**\u001b[0m\u001b[0minner_kwargs\u001b[0m\u001b[0;34m)\u001b[0m\u001b[0;34m\u001b[0m\u001b[0;34m\u001b[0m\u001b[0m\n\u001b[0m\u001b[1;32m    412\u001b[0m \u001b[0;34m\u001b[0m\u001b[0m\n\u001b[1;32m    413\u001b[0m     \u001b[0;32mreturn\u001b[0m \u001b[0mwrapper\u001b[0m\u001b[0;34m\u001b[0m\u001b[0;34m\u001b[0m\u001b[0m\n",
      "\u001b[0;32m/opt/anaconda3/envs/PythonData/lib/python3.8/site-packages/matplotlib/axes/_axes.py\u001b[0m in \u001b[0;36mscatter\u001b[0;34m(self, x, y, s, c, marker, cmap, norm, vmin, vmax, alpha, linewidths, verts, edgecolors, plotnonfinite, **kwargs)\u001b[0m\n\u001b[1;32m   4439\u001b[0m         \u001b[0my\u001b[0m \u001b[0;34m=\u001b[0m \u001b[0mnp\u001b[0m\u001b[0;34m.\u001b[0m\u001b[0mma\u001b[0m\u001b[0;34m.\u001b[0m\u001b[0mravel\u001b[0m\u001b[0;34m(\u001b[0m\u001b[0my\u001b[0m\u001b[0;34m)\u001b[0m\u001b[0;34m\u001b[0m\u001b[0;34m\u001b[0m\u001b[0m\n\u001b[1;32m   4440\u001b[0m         \u001b[0;32mif\u001b[0m \u001b[0mx\u001b[0m\u001b[0;34m.\u001b[0m\u001b[0msize\u001b[0m \u001b[0;34m!=\u001b[0m \u001b[0my\u001b[0m\u001b[0;34m.\u001b[0m\u001b[0msize\u001b[0m\u001b[0;34m:\u001b[0m\u001b[0;34m\u001b[0m\u001b[0;34m\u001b[0m\u001b[0m\n\u001b[0;32m-> 4441\u001b[0;31m             \u001b[0;32mraise\u001b[0m \u001b[0mValueError\u001b[0m\u001b[0;34m(\u001b[0m\u001b[0;34m\"x and y must be the same size\"\u001b[0m\u001b[0;34m)\u001b[0m\u001b[0;34m\u001b[0m\u001b[0;34m\u001b[0m\u001b[0m\n\u001b[0m\u001b[1;32m   4442\u001b[0m \u001b[0;34m\u001b[0m\u001b[0m\n\u001b[1;32m   4443\u001b[0m         \u001b[0;32mif\u001b[0m \u001b[0ms\u001b[0m \u001b[0;32mis\u001b[0m \u001b[0;32mNone\u001b[0m\u001b[0;34m:\u001b[0m\u001b[0;34m\u001b[0m\u001b[0;34m\u001b[0m\u001b[0m\n",
      "\u001b[0;31mValueError\u001b[0m: x and y must be the same size"
     ]
    },
    {
     "data": {
      "image/png": "[encoded data removed]",
      "text/plain": [
       "<Figure size 432x288 with 1 Axes>"
      ]
     },
     "metadata": {
      "needs_background": "light"
     },
     "output_type": "display_data"
    }
   ],
   "source": [
    "cloudiness = non_humid_cities[\"Cloudiness\"]\n",
    "plt.scatter(lats, cloudiness, edgecolor=\"black\", facecolor=\"blue\", marker=\"o\", label=\"Cities\")\n",
    "plt.title(\"City Latitude vs. Cloudiness (04/01/20)\")\n",
    "plt.xlabel(\"Latitude\")\n",
    "plt.ylabel(\"Cloudiness(%)\")\n",
    "plt.grid(True)\n",
    "\n",
    "plt.show()"
   ]
  },
  {
   "cell_type": "markdown",
   "metadata": {},
   "source": [
    "## Latitude vs. Wind Speed Plot"
   ]
  },
  {
   "cell_type": "code",
   "execution_count": 21,
   "metadata": {},
   "outputs": [
    {
     "ename": "ValueError",
     "evalue": "x and y must be the same size",
     "output_type": "error",
     "traceback": [
      "\u001b[0;31m---------------------------------------------------------------------------\u001b[0m",
      "\u001b[0;31mValueError\u001b[0m                                Traceback (most recent call last)",
      "\u001b[0;32m<ipython-input-21-67b2ca69a605>\u001b[0m in \u001b[0;36m<module>\u001b[0;34m\u001b[0m\n\u001b[1;32m      1\u001b[0m \u001b[0mwind_speed\u001b[0m \u001b[0;34m=\u001b[0m \u001b[0mnon_humid_cities\u001b[0m\u001b[0;34m[\u001b[0m\u001b[0;34m\"Wind Speed\"\u001b[0m\u001b[0;34m]\u001b[0m\u001b[0;34m\u001b[0m\u001b[0;34m\u001b[0m\u001b[0m\n\u001b[0;32m----> 2\u001b[0;31m \u001b[0mplt\u001b[0m\u001b[0;34m.\u001b[0m\u001b[0mscatter\u001b[0m\u001b[0;34m(\u001b[0m\u001b[0mlats\u001b[0m\u001b[0;34m,\u001b[0m \u001b[0mwind_speed\u001b[0m\u001b[0;34m,\u001b[0m \u001b[0medgecolor\u001b[0m\u001b[0;34m=\u001b[0m\u001b[0;34m\"black\"\u001b[0m\u001b[0;34m,\u001b[0m \u001b[0mfacecolor\u001b[0m\u001b[0;34m=\u001b[0m\u001b[0;34m\"blue\"\u001b[0m\u001b[0;34m,\u001b[0m \u001b[0mmarker\u001b[0m\u001b[0;34m=\u001b[0m\u001b[0;34m\"o\"\u001b[0m\u001b[0;34m,\u001b[0m \u001b[0mlabel\u001b[0m\u001b[0;34m=\u001b[0m\u001b[0;34m\"Cities\"\u001b[0m\u001b[0;34m)\u001b[0m\u001b[0;34m\u001b[0m\u001b[0;34m\u001b[0m\u001b[0m\n\u001b[0m\u001b[1;32m      3\u001b[0m \u001b[0mplt\u001b[0m\u001b[0;34m.\u001b[0m\u001b[0mtitle\u001b[0m\u001b[0;34m(\u001b[0m\u001b[0;34m\"City Latitude vs. Wind Speed (04/01/20)\"\u001b[0m\u001b[0;34m)\u001b[0m\u001b[0;34m\u001b[0m\u001b[0;34m\u001b[0m\u001b[0m\n\u001b[1;32m      4\u001b[0m \u001b[0mplt\u001b[0m\u001b[0;34m.\u001b[0m\u001b[0mxlabel\u001b[0m\u001b[0;34m(\u001b[0m\u001b[0;34m\"Latitude\"\u001b[0m\u001b[0;34m)\u001b[0m\u001b[0;34m\u001b[0m\u001b[0;34m\u001b[0m\u001b[0m\n\u001b[1;32m      5\u001b[0m \u001b[0mplt\u001b[0m\u001b[0;34m.\u001b[0m\u001b[0mylabel\u001b[0m\u001b[0;34m(\u001b[0m\u001b[0;34m\"Wind Speed (mph)\"\u001b[0m\u001b[0;34m)\u001b[0m\u001b[0;34m\u001b[0m\u001b[0;34m\u001b[0m\u001b[0m\n",
      "\u001b[0;32m/opt/anaconda3/envs/PythonData/lib/python3.8/site-packages/matplotlib/pyplot.py\u001b[0m in \u001b[0;36mscatter\u001b[0;34m(x, y, s, c, marker, cmap, norm, vmin, vmax, alpha, linewidths, verts, edgecolors, plotnonfinite, data, **kwargs)\u001b[0m\n\u001b[1;32m   2888\u001b[0m         \u001b[0mverts\u001b[0m\u001b[0;34m=\u001b[0m\u001b[0mcbook\u001b[0m\u001b[0;34m.\u001b[0m\u001b[0mdeprecation\u001b[0m\u001b[0;34m.\u001b[0m\u001b[0m_deprecated_parameter\u001b[0m\u001b[0;34m,\u001b[0m\u001b[0;34m\u001b[0m\u001b[0;34m\u001b[0m\u001b[0m\n\u001b[1;32m   2889\u001b[0m         edgecolors=None, *, plotnonfinite=False, data=None, **kwargs):\n\u001b[0;32m-> 2890\u001b[0;31m     __ret = gca().scatter(\n\u001b[0m\u001b[1;32m   2891\u001b[0m         \u001b[0mx\u001b[0m\u001b[0;34m,\u001b[0m \u001b[0my\u001b[0m\u001b[0;34m,\u001b[0m \u001b[0ms\u001b[0m\u001b[0;34m=\u001b[0m\u001b[0ms\u001b[0m\u001b[0;34m,\u001b[0m \u001b[0mc\u001b[0m\u001b[0;34m=\u001b[0m\u001b[0mc\u001b[0m\u001b[0;34m,\u001b[0m \u001b[0mmarker\u001b[0m\u001b[0;34m=\u001b[0m\u001b[0mmarker\u001b[0m\u001b[0;34m,\u001b[0m \u001b[0mcmap\u001b[0m\u001b[0;34m=\u001b[0m\u001b[0mcmap\u001b[0m\u001b[0;34m,\u001b[0m \u001b[0mnorm\u001b[0m\u001b[0;34m=\u001b[0m\u001b[0mnorm\u001b[0m\u001b[0;34m,\u001b[0m\u001b[0;34m\u001b[0m\u001b[0;34m\u001b[0m\u001b[0m\n\u001b[1;32m   2892\u001b[0m         \u001b[0mvmin\u001b[0m\u001b[0;34m=\u001b[0m\u001b[0mvmin\u001b[0m\u001b[0;34m,\u001b[0m \u001b[0mvmax\u001b[0m\u001b[0;34m=\u001b[0m\u001b[0mvmax\u001b[0m\u001b[0;34m,\u001b[0m \u001b[0malpha\u001b[0m\u001b[0;34m=\u001b[0m\u001b[0malpha\u001b[0m\u001b[0;34m,\u001b[0m \u001b[0mlinewidths\u001b[0m\u001b[0;34m=\u001b[0m\u001b[0mlinewidths\u001b[0m\u001b[0;34m,\u001b[0m\u001b[0;34m\u001b[0m\u001b[0;34m\u001b[0m\u001b[0m\n",
      "\u001b[0;32m/opt/anaconda3/envs/PythonData/lib/python3.8/site-packages/matplotlib/__init__.py\u001b[0m in \u001b[0;36minner\u001b[0;34m(ax, data, *args, **kwargs)\u001b[0m\n\u001b[1;32m   1436\u001b[0m     \u001b[0;32mdef\u001b[0m \u001b[0minner\u001b[0m\u001b[0;34m(\u001b[0m\u001b[0max\u001b[0m\u001b[0;34m,\u001b[0m \u001b[0;34m*\u001b[0m\u001b[0margs\u001b[0m\u001b[0;34m,\u001b[0m \u001b[0mdata\u001b[0m\u001b[0;34m=\u001b[0m\u001b[0;32mNone\u001b[0m\u001b[0;34m,\u001b[0m \u001b[0;34m**\u001b[0m\u001b[0mkwargs\u001b[0m\u001b[0;34m)\u001b[0m\u001b[0;34m:\u001b[0m\u001b[0;34m\u001b[0m\u001b[0;34m\u001b[0m\u001b[0m\n\u001b[1;32m   1437\u001b[0m         \u001b[0;32mif\u001b[0m \u001b[0mdata\u001b[0m \u001b[0;32mis\u001b[0m \u001b[0;32mNone\u001b[0m\u001b[0;34m:\u001b[0m\u001b[0;34m\u001b[0m\u001b[0;34m\u001b[0m\u001b[0m\n\u001b[0;32m-> 1438\u001b[0;31m             \u001b[0;32mreturn\u001b[0m \u001b[0mfunc\u001b[0m\u001b[0;34m(\u001b[0m\u001b[0max\u001b[0m\u001b[0;34m,\u001b[0m \u001b[0;34m*\u001b[0m\u001b[0mmap\u001b[0m\u001b[0;34m(\u001b[0m\u001b[0msanitize_sequence\u001b[0m\u001b[0;34m,\u001b[0m \u001b[0margs\u001b[0m\u001b[0;34m)\u001b[0m\u001b[0;34m,\u001b[0m \u001b[0;34m**\u001b[0m\u001b[0mkwargs\u001b[0m\u001b[0;34m)\u001b[0m\u001b[0;34m\u001b[0m\u001b[0;34m\u001b[0m\u001b[0m\n\u001b[0m\u001b[1;32m   1439\u001b[0m \u001b[0;34m\u001b[0m\u001b[0m\n\u001b[1;32m   1440\u001b[0m         \u001b[0mbound\u001b[0m \u001b[0;34m=\u001b[0m \u001b[0mnew_sig\u001b[0m\u001b[0;34m.\u001b[0m\u001b[0mbind\u001b[0m\u001b[0;34m(\u001b[0m\u001b[0max\u001b[0m\u001b[0;34m,\u001b[0m \u001b[0;34m*\u001b[0m\u001b[0margs\u001b[0m\u001b[0;34m,\u001b[0m \u001b[0;34m**\u001b[0m\u001b[0mkwargs\u001b[0m\u001b[0;34m)\u001b[0m\u001b[0;34m\u001b[0m\u001b[0;34m\u001b[0m\u001b[0m\n",
      "\u001b[0;32m/opt/anaconda3/envs/PythonData/lib/python3.8/site-packages/matplotlib/cbook/deprecation.py\u001b[0m in \u001b[0;36mwrapper\u001b[0;34m(*inner_args, **inner_kwargs)\u001b[0m\n\u001b[1;32m    409\u001b[0m                          \u001b[0;32melse\u001b[0m \u001b[0mdeprecation_addendum\u001b[0m\u001b[0;34m,\u001b[0m\u001b[0;34m\u001b[0m\u001b[0;34m\u001b[0m\u001b[0m\n\u001b[1;32m    410\u001b[0m                 **kwargs)\n\u001b[0;32m--> 411\u001b[0;31m         \u001b[0;32mreturn\u001b[0m \u001b[0mfunc\u001b[0m\u001b[0;34m(\u001b[0m\u001b[0;34m*\u001b[0m\u001b[0minner_args\u001b[0m\u001b[0;34m,\u001b[0m \u001b[0;34m**\u001b[0m\u001b[0minner_kwargs\u001b[0m\u001b[0;34m)\u001b[0m\u001b[0;34m\u001b[0m\u001b[0;34m\u001b[0m\u001b[0m\n\u001b[0m\u001b[1;32m    412\u001b[0m \u001b[0;34m\u001b[0m\u001b[0m\n\u001b[1;32m    413\u001b[0m     \u001b[0;32mreturn\u001b[0m \u001b[0mwrapper\u001b[0m\u001b[0;34m\u001b[0m\u001b[0;34m\u001b[0m\u001b[0m\n",
      "\u001b[0;32m/opt/anaconda3/envs/PythonData/lib/python3.8/site-packages/matplotlib/axes/_axes.py\u001b[0m in \u001b[0;36mscatter\u001b[0;34m(self, x, y, s, c, marker, cmap, norm, vmin, vmax, alpha, linewidths, verts, edgecolors, plotnonfinite, **kwargs)\u001b[0m\n\u001b[1;32m   4439\u001b[0m         \u001b[0my\u001b[0m \u001b[0;34m=\u001b[0m \u001b[0mnp\u001b[0m\u001b[0;34m.\u001b[0m\u001b[0mma\u001b[0m\u001b[0;34m.\u001b[0m\u001b[0mravel\u001b[0m\u001b[0;34m(\u001b[0m\u001b[0my\u001b[0m\u001b[0;34m)\u001b[0m\u001b[0;34m\u001b[0m\u001b[0;34m\u001b[0m\u001b[0m\n\u001b[1;32m   4440\u001b[0m         \u001b[0;32mif\u001b[0m \u001b[0mx\u001b[0m\u001b[0;34m.\u001b[0m\u001b[0msize\u001b[0m \u001b[0;34m!=\u001b[0m \u001b[0my\u001b[0m\u001b[0;34m.\u001b[0m\u001b[0msize\u001b[0m\u001b[0;34m:\u001b[0m\u001b[0;34m\u001b[0m\u001b[0;34m\u001b[0m\u001b[0m\n\u001b[0;32m-> 4441\u001b[0;31m             \u001b[0;32mraise\u001b[0m \u001b[0mValueError\u001b[0m\u001b[0;34m(\u001b[0m\u001b[0;34m\"x and y must be the same size\"\u001b[0m\u001b[0;34m)\u001b[0m\u001b[0;34m\u001b[0m\u001b[0;34m\u001b[0m\u001b[0m\n\u001b[0m\u001b[1;32m   4442\u001b[0m \u001b[0;34m\u001b[0m\u001b[0m\n\u001b[1;32m   4443\u001b[0m         \u001b[0;32mif\u001b[0m \u001b[0ms\u001b[0m \u001b[0;32mis\u001b[0m \u001b[0;32mNone\u001b[0m\u001b[0;34m:\u001b[0m\u001b[0;34m\u001b[0m\u001b[0;34m\u001b[0m\u001b[0m\n",
      "\u001b[0;31mValueError\u001b[0m: x and y must be the same size"
     ]
    },
    {
     "data": {
      "image/png": "[encoded data removed]",
      "text/plain": [
       "<Figure size 432x288 with 1 Axes>"
      ]
     },
     "metadata": {
      "needs_background": "light"
     },
     "output_type": "display_data"
    }
   ],
   "source": [
    "wind_speed = non_humid_cities[\"Wind Speed\"]\n",
    "plt.scatter(lats, wind_speed, edgecolor=\"black\", facecolor=\"blue\", marker=\"o\", label=\"Cities\")\n",
    "plt.title(\"City Latitude vs. Wind Speed (04/01/20)\")\n",
    "plt.xlabel(\"Latitude\")\n",
    "plt.ylabel(\"Wind Speed (mph)\")\n",
    "plt.grid(True)\n",
    "\n",
    "plt.show()"
   ]
  },
  {
   "cell_type": "markdown",
   "metadata": {},
   "source": [
    "## Linear Regression"
   ]
  },
  {
   "cell_type": "code",
   "execution_count": 22,
   "metadata": {},
   "outputs": [],
   "source": [
    "def plot_linear_regression(x_values, y_values, title, text_coordinates):\n",
    "    \n",
    "    \n",
    "    (slope, intercept, rvalue, pvalue, stderr) = linregress(x_values, y_values)\n",
    "    regress_values = x_values * slope + intercept\n",
    "    line_eq = \"y = \" + str(round(slope,2)) + \"x + \" + str(round(intercept,2))\n",
    "\n",
    "    \n",
    "    plt.scatter(x_values,y_values)\n",
    "    plt.plot(x_values,regress_values,\"r-\")\n",
    "    plt.annotate(line_eq,text_coordinates,fontsize=15,color=\"red\")\n",
    "    plt.xlabel('Latitude')\n",
    "    plt.ylabel(title)\n",
    "    print(f\"The r-value is: {rvalue**2}\")\n",
    "    plt.show()"
   ]
  },
  {
   "cell_type": "markdown",
   "metadata": {},
   "source": [
    "####  Northern Hemisphere - Max Temp vs. Latitude Linear Regression"
   ]
  },
  {
   "cell_type": "code",
   "execution_count": 25,
   "metadata": {},
   "outputs": [
    {
     "name": "stdout",
     "output_type": "stream",
     "text": [
      "The r-value is: 0.7913695676715959\n"
     ]
    },
    {
     "data": {
      "image/png": "[encoded data removed]",
      "text/plain": [
       "<Figure size 432x288 with 1 Axes>"
      ]
     },
     "metadata": {
      "needs_background": "light"
     },
     "output_type": "display_data"
    }
   ],
   "source": [
    "northern_df = city_data_df.loc[(city_data_df[\"Lat\"] >= 0)]\n",
    "southern_df = city_data_df.loc[(city_data_df[\"Lat\"] < 0)]\n",
    "x_values = northern_df[\"Lat\"]\n",
    "y_values = northern_df[\"Max Temp\"]\n",
    "plot_linear_regression(x_values, y_values, 'Max Temp',(6,30))"
   ]
  },
  {
   "cell_type": "markdown",
   "metadata": {},
   "source": [
    "####  Southern Hemisphere - Max Temp vs. Latitude Linear Regression"
   ]
  },
  {
   "cell_type": "code",
   "execution_count": 26,
   "metadata": {},
   "outputs": [
    {
     "name": "stdout",
     "output_type": "stream",
     "text": [
      "The r-value is: 0.49774387735743825\n"
     ]
    },
    {
     "data": {
      "image/png": "[encoded data removed]",
      "text/plain": [
       "<Figure size 432x288 with 1 Axes>"
      ]
     },
     "metadata": {
      "needs_background": "light"
     },
     "output_type": "display_data"
    }
   ],
   "source": [
    "\n",
    "x_values = southern_df[\"Lat\"]\n",
    "y_values = southern_df[\"Max Temp\"]\n",
    "plot_linear_regression(x_values, y_values, 'Max Temp',(-55,90))"
   ]
  },
  {
   "cell_type": "markdown",
   "metadata": {},
   "source": [
    "####  Northern Hemisphere - Humidity (%) vs. Latitude Linear Regression"
   ]
  },
  {
   "cell_type": "code",
   "execution_count": 27,
   "metadata": {},
   "outputs": [
    {
     "name": "stdout",
     "output_type": "stream",
     "text": [
      "The r-value is: 0.010539688969685126\n"
     ]
    },
    {
     "data": {
      "image/png": "[encoded data removed]",
      "text/plain": [
       "<Figure size 432x288 with 1 Axes>"
      ]
     },
     "metadata": {
      "needs_background": "light"
     },
     "output_type": "display_data"
    }
   ],
   "source": [
    "x_values = northern_df[\"Lat\"]\n",
    "y_values = northern_df[\"Humidity\"]\n",
    "plot_linear_regression(x_values, y_values, 'Humidity',(40,10))"
   ]
  },
  {
   "cell_type": "markdown",
   "metadata": {},
   "source": [
    "####  Southern Hemisphere - Humidity (%) vs. Latitude Linear Regression"
   ]
  },
  {
   "cell_type": "code",
   "execution_count": 28,
   "metadata": {},
   "outputs": [
    {
     "name": "stdout",
     "output_type": "stream",
     "text": [
      "The r-value is: 0.011534743546939123\n"
     ]
    },
    {
     "data": {
      "image/png": "[encoded data removed]",
      "text/plain": [
       "<Figure size 432x288 with 1 Axes>"
      ]
     },
     "metadata": {
      "needs_background": "light"
     },
     "output_type": "display_data"
    }
   ],
   "source": [
    "x_values = southern_df[\"Lat\"]\n",
    "y_values = southern_df[\"Humidity\"]\n",
    "plot_linear_regression(x_values, y_values, 'Humidity', (-50, 20))"
   ]
  },
  {
   "cell_type": "markdown",
   "metadata": {},
   "source": [
    "####  Northern Hemisphere - Cloudiness (%) vs. Latitude Linear Regression"
   ]
  },
  {
   "cell_type": "code",
   "execution_count": 29,
   "metadata": {},
   "outputs": [
    {
     "name": "stdout",
     "output_type": "stream",
     "text": [
      "The r-value is: 0.018925442671391207\n"
     ]
    },
    {
     "data": {
      "image/png": "[encoded data removed]",
      "text/plain": [
       "<Figure size 432x288 with 1 Axes>"
      ]
     },
     "metadata": {
      "needs_background": "light"
     },
     "output_type": "display_data"
    }
   ],
   "source": [
    "x_values = northern_df[\"Lat\"]\n",
    "y_values = northern_df[\"Cloudiness\"]\n",
    "plot_linear_regression(x_values, y_values, 'Cloudiness', (40,10))"
   ]
  },
  {
   "cell_type": "markdown",
   "metadata": {},
   "source": [
    "####  Southern Hemisphere - Cloudiness (%) vs. Latitude Linear Regression"
   ]
  },
  {
   "cell_type": "code",
   "execution_count": 30,
   "metadata": {},
   "outputs": [
    {
     "name": "stdout",
     "output_type": "stream",
     "text": [
      "The r-value is: 0.003775696292895704\n"
     ]
    },
    {
     "data": {
      "image/png": "[encoded data removed]",
      "text/plain": [
       "<Figure size 432x288 with 1 Axes>"
      ]
     },
     "metadata": {
      "needs_background": "light"
     },
     "output_type": "display_data"
    }
   ],
   "source": [
    "x_values = southern_df[\"Lat\"]\n",
    "y_values = southern_df[\"Cloudiness\"]\n",
    "plot_linear_regression(x_values, y_values, 'Cloudiness', (-30,30))"
   ]
  },
  {
   "cell_type": "markdown",
   "metadata": {},
   "source": [
    "####  Northern Hemisphere - Wind Speed (mph) vs. Latitude Linear Regression"
   ]
  },
  {
   "cell_type": "code",
   "execution_count": 31,
   "metadata": {},
   "outputs": [
    {
     "name": "stdout",
     "output_type": "stream",
     "text": [
      "The r-value is: 0.018444600098585357\n"
     ]
    },
    {
     "data": {
      "image/png": "[encoded data removed]",
      "text/plain": [
       "<Figure size 432x288 with 1 Axes>"
      ]
     },
     "metadata": {
      "needs_background": "light"
     },
     "output_type": "display_data"
    }
   ],
   "source": [
    "x_values = northern_df[\"Lat\"]\n",
    "y_values = northern_df[\"Wind Speed\"]\n",
    "plot_linear_regression(x_values, y_values, 'Wind Speed', (40,25))"
   ]
  },
  {
   "cell_type": "markdown",
   "metadata": {},
   "source": [
    "####  Southern Hemisphere - Wind Speed (mph) vs. Latitude Linear Regression"
   ]
  },
  {
   "cell_type": "code",
   "execution_count": 32,
   "metadata": {},
   "outputs": [
    {
     "name": "stdout",
     "output_type": "stream",
     "text": [
      "The r-value is: 0.0062427166046408545\n"
     ]
    },
    {
     "data": {
      "image/png": "[encoded data removed]",
      "text/plain": [
       "<Figure size 432x288 with 1 Axes>"
      ]
     },
     "metadata": {
      "needs_background": "light"
     },
     "output_type": "display_data"
    }
   ],
   "source": [
    "x_values = southern_df[\"Lat\"]\n",
    "y_values = southern_df[\"Wind Speed\"]\n",
    "plot_linear_regression(x_values, y_values, 'Wind Speed', (-50, 20))"
   ]
  },
  {
   "cell_type": "code",
   "execution_count": null,
   "metadata": {},
   "outputs": [],
   "source": []
  }
 ],
 "metadata": {
  "anaconda-cloud": {},
  "kernel_info": {
   "name": "python3"
  },
  "kernelspec": {
   "display_name": "Python 3.8.5 64-bit ('PythonData': conda)",
   "language": "python",
   "name": "python38564bitpythondataconda5adbfa0bd137409393e6d3bfc243fd7d"
  },
  "language_info": {
   "codemirror_mode": {
    "name": "ipython",
    "version": 3
   },
   "file_extension": ".py",
   "mimetype": "text/x-python",
   "name": "python",
   "nbconvert_exporter": "python",
   "pygments_lexer": "ipython3",
   "version": "3.8.5"
  },
  "latex_envs": {
   "LaTeX_envs_menu_present": true,
   "autoclose": false,
   "autocomplete": true,
   "bibliofile": "biblio.bib",
   "cite_by": "apalike",
   "current_citInitial": 1,
   "eqLabelWithNumbers": true,
   "eqNumInitial": 1,
   "hotkeys": {
    "equation": "Ctrl-E",
    "itemize": "Ctrl-I"
   },
   "labels_anchors": false,
   "latex_user_defs": false,
   "report_style_numbering": false,
   "user_envs_cfg": false
  },
  "nteract": {
   "version": "0.12.3"
  }
 },
 "nbformat": 4,
 "nbformat_minor": 2
}
